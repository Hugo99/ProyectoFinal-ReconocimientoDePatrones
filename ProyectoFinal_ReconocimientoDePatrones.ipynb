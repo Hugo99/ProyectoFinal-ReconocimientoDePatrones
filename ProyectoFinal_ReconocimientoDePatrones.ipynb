{
 "cells": [
  {
   "cell_type": "markdown",
   "metadata": {},
   "source": [
    "<tr>\n",
    "    <td> <img src=\"imagenes/ml-unison.png\" width=\"200\"> </td>\n",
    "    <td> <img src=\"imagenes/EscudoUnison.gif\" width=\"200\"> </td>\n",
    "</tr>"
   ]
  },
  {
   "cell_type": "markdown",
   "metadata": {},
   "source": [
    "# Reconocimiento de Patrones\n",
    "## Licenciatura en Ciencias de la Computación \n",
    "## Proyecto Final\n",
    "\n",
    "Integrantes: \n",
    "\n",
    "    Adrian L. Soto T.   \n",
    "\n",
    "    Hugo A. Eguino A.\n",
    "    \n",
    "Profesor: [**Julio Waissman Vilanova**](http://mat.uson.mx/~juliowaissman/) \n",
    "\n",
    "*Ultima revisión*: 24 Noviembre 2020.\n",
    "\n",
    "\n",
    "En esta libreta analizaremos y experimentaremos los datos de la base de datos \"[**Fake news**](https://www.kaggle.com/hassanamin/textdb3)\", tomada de kaggle. \n",
    "\n",
    "Elegimos esta base de datos, ya que en los ultimos años estas se han vuelto un gran problema en la sociedad. Estas tienen un gran impacto en las redes sociales, por lo que tambien llegan a tener un gran impacto en toda la sociedad. Hazta pueden llegar a afectar la democracia en nuestra sociedad. \n",
    "\n",
    "Esta base de datos contiene una tabala donde separa a las noticias por \"Fake\" o \"Real\", cada una tiene el titulo de la nota y un poco del articulo de esta. \n",
    "\n",
    "Empezaremos inicialisando todos los módulos que necesitaremos."
   ]
  },
  {
   "cell_type": "code",
   "execution_count": 105,
   "metadata": {},
   "outputs": [],
   "source": [
    "%matplotlib inline\n",
    "import numpy as np\n",
    "import matplotlib.pyplot as plt\n",
    "import pandas as pd   \n",
    "from collections import Counter\n",
    "from IPython.display import Image  # Esto es para desplegar imágenes en la libreta\n",
    "from matplotlib.colors import ListedColormap\n",
    "\n",
    "plt.rcParams['figure.figsize'] = (20,10)\n",
    "plt.style.use('ggplot')\n",
    "\n",
    "%matplotlib inline\n",
    "\n",
    "\n",
    "# Conjuntos de datos de prueba en sklearn que utlizaremos\n",
    "#----------------------------------------------------------\n",
    "\n",
    "from sklearn.feature_extraction.text import TfidfVectorizer #Convierte texto a una matriz de recuento de tokens \n",
    "from sklearn.datasets import make_moons           # En forma de medialunas \n",
    "from sklearn.datasets import make_circles         # En forma de círculos\n",
    "from sklearn.datasets import make_classification  # Como separación lineal\n",
    "from sklearn.metrics import accuracy_score\n",
    "from sklearn.linear_model import PassiveAggressiveClassifier\n",
    "from sklearn.preprocessing import StandardScaler #Proporciona varias funciones y clases de transformadores\n",
    "                                                 #para cambiar los vectores de características sin procesar en \n",
    "                                                 #una representación que sea más adecuada para procedimientos mas adelante\n",
    "from sklearn.model_selection import train_test_split #Divide las matrices o vectores en subconjuntos de prueva y entrenamientos aleatorios \n",
    "from sklearn.neighbors import KNeighborsClassifier      # KNN\n",
    "from sklearn.svm import SVC                             # SVM\n",
    "from sklearn.tree import DecisionTreeClassifier         # Arbol decisión\n",
    "from sklearn.ensemble import RandomForestClassifier     # Bósque aleatorios\n",
    "from sklearn.ensemble import AdaBoostClassifier         # ADA Boost\n",
    "from sklearn.naive_bayes import GaussianNB              # Naive bayes\n",
    "from sklearn.linear_model import  LogisticRegression    # Logística con regularización\n",
    "from sklearn.discriminant_analysis import QuadraticDiscriminantAnalysis   # Logística con polinomio de orden 2 \n"
   ]
  },
  {
   "cell_type": "markdown",
   "metadata": {},
   "source": [
    "Después de haber importado algunos módulos que necesitaremos accedemos a la base de datos, el cual esta en un archivo CSV. Después mostramos cuantas noticias \"Fakes\" o \"Reals\" hay. "
   ]
  },
  {
   "cell_type": "code",
   "execution_count": 106,
   "metadata": {},
   "outputs": [
    {
     "data": {
      "text/plain": [
       "Counter({'FAKE': 3164, 'REAL': 3171})"
      ]
     },
     "execution_count": 106,
     "metadata": {},
     "output_type": "execute_result"
    }
   ],
   "source": [
    "datos = pd.read_csv('datos/fake_or_real_news.csv')\n",
    "datos.shape\n",
    "\n",
    "Counter(datos['label'])"
   ]
  },
  {
   "cell_type": "markdown",
   "metadata": {},
   "source": [
    "Una ves importada la base de datos, separamos los datos en datos de entrenamiento y datos de prueba utilizando la libreria de Sklearn train_test_split"
   ]
  },
  {
   "cell_type": "code",
   "execution_count": 107,
   "metadata": {},
   "outputs": [
    {
     "name": "stdout",
     "output_type": "stream",
     "text": [
      "(4941,)\n",
      "(1394,)\n",
      "(4941,)\n",
      "(1394,)\n"
     ]
    }
   ],
   "source": [
    "xEntre,xPrueb,yEntre,yPrueb=train_test_split(datos['text'],datos['label'],test_size=0.22)\n",
    "print(xEntre.shape)\n",
    "print(xPrueb.shape)\n",
    "print(yEntre.shape)\n",
    "print(yPrueb.shape)"
   ]
  },
  {
   "cell_type": "markdown",
   "metadata": {},
   "source": [
    "Usamo feature_extraction.text de Sklearn para procesar los datos en una matriz "
   ]
  },
  {
   "cell_type": "code",
   "execution_count": 108,
   "metadata": {},
   "outputs": [
    {
     "name": "stdout",
     "output_type": "stream",
     "text": [
      "(1394, 61336)\n",
      "(4941, 61336)\n"
     ]
    }
   ],
   "source": [
    "tfidf=TfidfVectorizer(stop_words='english',max_df=0.8)\n",
    "xEntre=tfidf.fit_transform(xEntre)\n",
    "xPrueb=tfidf.transform(xPrueb)\n",
    "print(xPrueb.shape)\n",
    "print(xEntre.shape)"
   ]
  },
  {
   "cell_type": "markdown",
   "metadata": {},
   "source": [
    "Utilizamos difernetes modelos para saber cual era el que mejor se abaptada a los datos y asi optener una mejor precicion."
   ]
  },
  {
   "cell_type": "code",
   "execution_count": 109,
   "metadata": {},
   "outputs": [
    {
     "data": {
      "text/plain": [
       "LogisticRegression()"
      ]
     },
     "execution_count": 109,
     "metadata": {},
     "output_type": "execute_result"
    }
   ],
   "source": [
    "modelo1=PassiveAggressiveClassifier(max_iter=300)\n",
    "modelo1.fit(xEntre,yEntre)\n",
    "\n",
    "modelo2=GaussianNB()\n",
    "modelo2.fit(xEntre.toarray(),yEntre)\n",
    "\n",
    "modelo3=DecisionTreeClassifier()\n",
    "modelo3.fit(xEntre,yEntre)\n",
    "\n",
    "modelo4=RandomForestClassifier()\n",
    "modelo4.fit(xEntre,yEntre)\n",
    "\n",
    "modelo5=SVC()\n",
    "modelo5.fit(xEntre,yEntre)\n",
    "\n",
    "modelo6=LogisticRegression()\n",
    "modelo6.fit(xEntre,yEntre)"
   ]
  },
  {
   "cell_type": "markdown",
   "metadata": {},
   "source": [
    "predecimo para asi probar los datos en todos los modelos "
   ]
  },
  {
   "cell_type": "code",
   "execution_count": 111,
   "metadata": {},
   "outputs": [
    {
     "name": "stdout",
     "output_type": "stream",
     "text": [
      "Passive Aggressive Classifier : 0.9512195121951219\n",
      "Gaussian : 0.8070301291248206\n",
      "Clasificador de Arbol de decision : 0.8185078909612625\n",
      "Clasificador de Bosque aleatorio : 0.9045911047345767\n",
      "SVC : 0.9461979913916786\n",
      "Regrecion logistica : 0.9311334289813487\n"
     ]
    }
   ],
   "source": [
    "yPredic1=modelo1.predict(xPrueb)\n",
    "yPredic2=modelo2.predict(xPrueb.toarray())\n",
    "yPredic3=modelo3.predict(xPrueb)\n",
    "yPredic4=modelo4.predict(xPrueb)\n",
    "yPredic5=modelo5.predict(xPrueb)\n",
    "yPredic6=modelo6.predict(xPrueb)\n",
    "\n",
    "#Se Calculcula la precision\n",
    "acc1=accuracy_score(yPrueb,yPredic1)\n",
    "acc2=accuracy_score(yPrueb,yPredic2)\n",
    "acc3=accuracy_score(yPrueb,yPredic3)\n",
    "acc4=accuracy_score(yPrueb,yPredic4)\n",
    "acc5=accuracy_score(yPrueb,yPredic5)\n",
    "acc6=accuracy_score(yPrueb,yPredic6)\n",
    "\n",
    "labels={'Passive Aggressive Classifier':acc1,'Gaussian':acc2,'Clasificador de Arbol de decision':acc3,'Clasificador de Bosque aleatorio':acc4,\n",
    "        'SVC':acc5,'Regrecion logistica':acc6}\n",
    "for model,accuracy in labels.items():\n",
    "    print(str(model)+' : '+str(accuracy))"
   ]
  },
  {
   "cell_type": "code",
   "execution_count": null,
   "metadata": {},
   "outputs": [],
   "source": []
  },
  {
   "cell_type": "code",
   "execution_count": 112,
   "metadata": {},
   "outputs": [
    {
     "data": {
      "text/plain": [
       "Text(0.5, 1.0, 'Noticias falsas')"
      ]
     },
     "execution_count": 112,
     "metadata": {},
     "output_type": "execute_result"
    },
    {
     "data": {
      "image/png": "[encoded data removed]",
      "text/plain": [
       "<Figure size 1080x576 with 2 Axes>"
      ]
     },
     "metadata": {
      "needs_background": "light"
     },
     "output_type": "display_data"
    }
   ],
   "source": [
    "fig, (ax1,ax2)=plt.subplots(1,2,figsize=(15,8))\n",
    "fig.suptitle('Caracteres en los titulos de las noticias',fontsize=20)\n",
    "datos_len=datos[datos['label']=='REAL']['title'].str.len()\n",
    "ax1.hist(datos_len,color='blue',linewidth=2,edgecolor='black')\n",
    "ax1.set_title('Noticias reales',fontsize=15)\n",
    "datos_len=datos[datos['label']=='FAKE']['title'].str.len()\n",
    "ax2.hist(datos_len,linewidth=2,edgecolor='black')\n",
    "ax2.set_title('Noticias falsas',fontsize=15)"
   ]
  },
  {
   "cell_type": "code",
   "execution_count": 116,
   "metadata": {},
   "outputs": [
    {
     "data": {
      "text/plain": [
       "Text(0.5, 1.0, 'Fake news')"
      ]
     },
     "execution_count": 116,
     "metadata": {},
     "output_type": "execute_result"
    },
    {
     "data": {
      "image/png": "[encoded data removed]",
      "text/plain": [
       "<Figure size 1080x576 with 2 Axes>"
      ]
     },
     "metadata": {
      "needs_background": "light"
     },
     "output_type": "display_data"
    }
   ],
   "source": [
    "fig, (ax1,ax2)=plt.subplots(1,2,figsize=(15,8))\n",
    "fig.suptitle('Characters in News Text',fontsize=20)\n",
    "news_len=datos[datos['label']=='REAL']['text'].str.len()\n",
    "ax1.hist(news_len,color='blue',linewidth=2,edgecolor='black')\n",
    "ax1.set_title('REAL news',fontsize=15)\n",
    "news_len=datos[datos['label']=='FAKE']['text'].str.len()\n",
    "ax2.hist(news_len,linewidth=2,edgecolor='black')\n",
    "ax2.set_title('Fake news',fontsize=15)"
   ]
  },
  {
   "cell_type": "code",
   "execution_count": null,
   "metadata": {},
   "outputs": [],
   "source": []
  }
 ],
 "metadata": {
  "kernelspec": {
   "display_name": "Python 3",
   "language": "python",
   "name": "python3"
  },
  "language_info": {
   "codemirror_mode": {
    "name": "ipython",
    "version": 3
   },
   "file_extension": ".py",
   "mimetype": "text/x-python",
   "name": "python",
   "nbconvert_exporter": "python",
   "pygments_lexer": "ipython3",
   "version": "3.8.3"
  }
 },
 "nbformat": 4,
 "nbformat_minor": 4
}

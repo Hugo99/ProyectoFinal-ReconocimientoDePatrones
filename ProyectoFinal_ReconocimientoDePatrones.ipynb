{
 "cells": [
  {
   "cell_type": "markdown",
   "metadata": {},
   "source": [
    "<tr>\n",
    "    <td> <img src=\"imagenes/ml-unison.png\" width=\"200\"> </td>\n",
    "    <td> <img src=\"imagenes/EscudoUnison.gif\" width=\"200\"> </td>\n",
    "</tr>"
   ]
  },
  {
   "cell_type": "markdown",
   "metadata": {},
   "source": [
    "# Reconocimiento de Patrones\n",
    "## Licenciatura en Ciencias de la Computación \n",
    "## Proyecto Final\n",
    "\n",
    "Integrantes: \n",
    "\n",
    "    Adrian L. Soto T.   \n",
    "\n",
    "    Hugo A. Eguino A.\n",
    "    \n",
    "Profesor: [**Julio Waissman Vilanova**](http://mat.uson.mx/~juliowaissman/) \n",
    "\n",
    "*Ultima revisión*: 24 Noviembre 2020.\n",
    "\n",
    "\n",
    "En esta libreta analizaremos y experimentaremos los datos de la base de datos \"[**Fake news**](https://www.kaggle.com/hassanamin/textdb3)\", tomada de kaggle. \n",
    "\n",
    "Elegimos esta base de datos, ya que en los ultimos años estas se han vuelto un gran problema en la sociedad. Estas tienen un gran impacto en las redes sociales, por lo que tambien llegan a tener un gran impacto en toda la sociedad. Hazta pueden llegar a afectar la democracia en nuestra sociedad. \n",
    "\n",
    "Esta base de datos contiene una tabala donde separa a las noticias por \"Fake\" o \"Real\", cada una tiene el titulo de la nota y un poco del articulo de esta. \n",
    "\n",
    "Empezaremos inicialisando todos los módulos que necesitaremos."
   ]
  },
  {
   "cell_type": "code",
   "execution_count": 16,
   "metadata": {},
   "outputs": [],
   "source": [
    "%matplotlib inline\n",
    "import numpy as np\n",
    "import matplotlib.pyplot as plt\n",
    "import pandas as pd   \n",
    "from collections import Counter"
   ]
  },
  {
   "cell_type": "markdown",
   "metadata": {},
   "source": [
    "Después de haber importado algunos módulos que necesitaremos accedemos a la base de datos, el cual esta en un archivo CSV. Después mostramos cuantas noticias \"Fakes\" o \"Reals\" hay. "
   ]
  },
  {
   "cell_type": "code",
   "execution_count": 17,
   "metadata": {},
   "outputs": [
    {
     "data": {
      "text/plain": [
       "Counter({'FAKE': 3164, 'REAL': 3171})"
      ]
     },
     "execution_count": 17,
     "metadata": {},
     "output_type": "execute_result"
    }
   ],
   "source": [
    "datos = pd.read_csv('datos/fake_or_real_news.csv')\n",
    "datos.shape\n",
    "\n",
    "Counter(datos['label'])"
   ]
  },
  {
   "cell_type": "code",
   "execution_count": null,
   "metadata": {},
   "outputs": [],
   "source": []
  }
 ],
 "metadata": {
  "kernelspec": {
   "display_name": "Python 3",
   "language": "python",
   "name": "python3"
  },
  "language_info": {
   "codemirror_mode": {
    "name": "ipython",
    "version": 3
   },
   "file_extension": ".py",
   "mimetype": "text/x-python",
   "name": "python",
   "nbconvert_exporter": "python",
   "pygments_lexer": "ipython3",
   "version": "3.8.3"
  }
 },
 "nbformat": 4,
 "nbformat_minor": 4
}

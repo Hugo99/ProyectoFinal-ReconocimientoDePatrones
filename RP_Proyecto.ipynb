{
  "nbformat": 4,
  "nbformat_minor": 0,
  "metadata": {
    "colab": {
      "name": "RP_Proyecto.ipynb",
      "provenance": []
    },
    "kernelspec": {
      "name": "python3",
      "display_name": "Python 3"
    }
  },
  "cells": [
    {
      "cell_type": "markdown",
      "metadata": {
        "id": "xMgdgavtI970"
      },
      "source": [
        "\n",
        "# Reconocimiento de Patrones\n",
        "\n",
        "## Licenciatura en Ciencias de la Computación\n",
        "\n",
        "### Proyecto Final\n",
        "Profesor: Julio Waissman Vilanova\n",
        "\n",
        "Integrantes:\n",
        "\n",
        "Adrian L. Soto T.  \n",
        "\n",
        "Hugo A. Eguino A.\n",
        "\n"
      ]
    },
    {
      "cell_type": "markdown",
      "metadata": {
        "id": "yGP6CxLyJu1E"
      },
      "source": [
        "En esta libreta analizaremos y experimentaremos con los datos de la base de datos \"Real or Not?\", tomada de kaggle. Está compuesta por tweets sobre desastres, y están clasificados como desastres reales o falsos.\n",
        "\n",
        "Elegimos esta base de datos, ya que es algo muy importante para la sociedad poder monitorar la aparición de desastres mediante las redes sociales, pues aquí es donde más rápido se comparten. Estos tweets tienen un gran impacto en las redes sociales, por lo que tambien llegan a tener un gran impacto en toda la sociedad. Poder detectar desastres reales por medio de redes sociales, será beneficioso para todos.\n",
        "\n",
        "El valor de 1 en la columna target significa que es un desastre real. El valor de 0 significa que es un desastre falso.\n",
        "\n",
        "Empezaremos importando todos los módulos que necesitaremos."
      ]
    },
    {
      "cell_type": "code",
      "metadata": {
        "id": "idEgft7-mR_R",
        "colab": {
          "base_uri": "https://localhost:8080/"
        },
        "outputId": "b86edbf9-0822-47d6-c705-343154259bfb"
      },
      "source": [
        "import pandas as pd\n",
        "import numpy as np\n",
        "import seaborn as sns \n",
        "import matplotlib.pyplot as plt \n",
        "from collections import Counter\n",
        "import re\n",
        "import string\n",
        "from gensim.parsing.preprocessing import remove_stopwords\n",
        "import plotly.express as px\n",
        "from sklearn.feature_extraction.text import TfidfVectorizer\n",
        "from sklearn.feature_extraction.text import CountVectorizer\n",
        "from sklearn.model_selection import train_test_split\n",
        "from sklearn.metrics import accuracy_score\n",
        "from sklearn.naive_bayes import MultinomialNB\n",
        "from sklearn.linear_model import LogisticRegression\n",
        "from sklearn.linear_model import LinearRegression\n",
        "from nltk.stem import PorterStemmer \n",
        "from nltk.tokenize import word_tokenize \n",
        "from nltk.stem import WordNetLemmatizer \n",
        "from sklearn.svm import SVC\n",
        "from sklearn.model_selection import learning_curve\n",
        "from sklearn.model_selection import ShuffleSplit\n",
        "from scipy import sparse\n",
        "import nltk\n",
        "nltk.download('wordnet')\n",
        "nltk.download('punkt')\n",
        "%matplotlib inline \n",
        "sns.set(color_codes=True)"
      ],
      "execution_count": 703,
      "outputs": [
        {
          "output_type": "stream",
          "text": [
            "[nltk_data] Downloading package wordnet to /root/nltk_data...\n",
            "[nltk_data]   Package wordnet is already up-to-date!\n",
            "[nltk_data] Downloading package punkt to /root/nltk_data...\n",
            "[nltk_data]   Package punkt is already up-to-date!\n"
          ],
          "name": "stdout"
        }
      ]
    },
    {
      "cell_type": "markdown",
      "metadata": {
        "id": "sq8rNbBwLWXX"
      },
      "source": [
        "Leemos los archivos csv de la base de datos y vemos como están compuestos."
      ]
    },
    {
      "cell_type": "code",
      "metadata": {
        "colab": {
          "base_uri": "https://localhost:8080/",
          "height": 229
        },
        "id": "eECzCeKkpW24",
        "outputId": "24b5a73c-dc52-4a68-bc99-505882de3176"
      },
      "source": [
        "tweets_train = pd.read_csv(\"train.csv\")\n",
        "tweets_test = pd.read_csv(\"test.csv\") \n",
        "print(\"Forma de los datos de prubea: \" + str(tweets_test.shape))\n",
        "print(\"Forma de los datos de entrenamiento: \" + str(tweets_train.shape))\n",
        "tweets_train.head(5)"
      ],
      "execution_count": 704,
      "outputs": [
        {
          "output_type": "stream",
          "text": [
            "Forma de los datos de prubea: (3263, 4)\n",
            "Forma de los datos de entrenamiento: (7613, 5)\n"
          ],
          "name": "stdout"
        },
        {
          "output_type": "execute_result",
          "data": {
            "text/html": [
              "<div>\n",
              "<style scoped>\n",
              "    .dataframe tbody tr th:only-of-type {\n",
              "        vertical-align: middle;\n",
              "    }\n",
              "\n",
              "    .dataframe tbody tr th {\n",
              "        vertical-align: top;\n",
              "    }\n",
              "\n",
              "    .dataframe thead th {\n",
              "        text-align: right;\n",
              "    }\n",
              "</style>\n",
              "<table border=\"1\" class=\"dataframe\">\n",
              "  <thead>\n",
              "    <tr style=\"text-align: right;\">\n",
              "      <th></th>\n",
              "      <th>id</th>\n",
              "      <th>keyword</th>\n",
              "      <th>location</th>\n",
              "      <th>text</th>\n",
              "      <th>target</th>\n",
              "    </tr>\n",
              "  </thead>\n",
              "  <tbody>\n",
              "    <tr>\n",
              "      <th>0</th>\n",
              "      <td>1</td>\n",
              "      <td>NaN</td>\n",
              "      <td>NaN</td>\n",
              "      <td>Our Deeds are the Reason of this #earthquake M...</td>\n",
              "      <td>1</td>\n",
              "    </tr>\n",
              "    <tr>\n",
              "      <th>1</th>\n",
              "      <td>4</td>\n",
              "      <td>NaN</td>\n",
              "      <td>NaN</td>\n",
              "      <td>Forest fire near La Ronge Sask. Canada</td>\n",
              "      <td>1</td>\n",
              "    </tr>\n",
              "    <tr>\n",
              "      <th>2</th>\n",
              "      <td>5</td>\n",
              "      <td>NaN</td>\n",
              "      <td>NaN</td>\n",
              "      <td>All residents asked to 'shelter in place' are ...</td>\n",
              "      <td>1</td>\n",
              "    </tr>\n",
              "    <tr>\n",
              "      <th>3</th>\n",
              "      <td>6</td>\n",
              "      <td>NaN</td>\n",
              "      <td>NaN</td>\n",
              "      <td>13,000 people receive #wildfires evacuation or...</td>\n",
              "      <td>1</td>\n",
              "    </tr>\n",
              "    <tr>\n",
              "      <th>4</th>\n",
              "      <td>7</td>\n",
              "      <td>NaN</td>\n",
              "      <td>NaN</td>\n",
              "      <td>Just got sent this photo from Ruby #Alaska as ...</td>\n",
              "      <td>1</td>\n",
              "    </tr>\n",
              "  </tbody>\n",
              "</table>\n",
              "</div>"
            ],
            "text/plain": [
              "   id keyword  ...                                               text target\n",
              "0   1     NaN  ...  Our Deeds are the Reason of this #earthquake M...      1\n",
              "1   4     NaN  ...             Forest fire near La Ronge Sask. Canada      1\n",
              "2   5     NaN  ...  All residents asked to 'shelter in place' are ...      1\n",
              "3   6     NaN  ...  13,000 people receive #wildfires evacuation or...      1\n",
              "4   7     NaN  ...  Just got sent this photo from Ruby #Alaska as ...      1\n",
              "\n",
              "[5 rows x 5 columns]"
            ]
          },
          "metadata": {
            "tags": []
          },
          "execution_count": 704
        }
      ]
    },
    {
      "cell_type": "markdown",
      "metadata": {
        "id": "wVdiZAnrLhM-"
      },
      "source": [
        "Dos columnas de los datos pueden tener valor nulo. Analizaremos nuestros datos para ver cuántos datos nulos tenemos."
      ]
    },
    {
      "cell_type": "code",
      "metadata": {
        "colab": {
          "base_uri": "https://localhost:8080/"
        },
        "id": "QQ5f2ZnNsHve",
        "outputId": "0f514400-dd76-4214-e822-f95487ee2ac9"
      },
      "source": [
        "print(\"Cantidad de datos válidos por columna: \\n\" + str(tweets_train.count()) + \"\\n\")\n",
        "print(\"Cantidad de datos nulos por columna: \\n\" + str(tweets_train.isnull().sum()))"
      ],
      "execution_count": 705,
      "outputs": [
        {
          "output_type": "stream",
          "text": [
            "Cantidad de datos válidos por columna: \n",
            "id          7613\n",
            "keyword     7552\n",
            "location    5080\n",
            "text        7613\n",
            "target      7613\n",
            "dtype: int64\n",
            "\n",
            "Cantidad de datos nulos por columna: \n",
            "id             0\n",
            "keyword       61\n",
            "location    2533\n",
            "text           0\n",
            "target         0\n",
            "dtype: int64\n"
          ],
          "name": "stdout"
        }
      ]
    },
    {
      "cell_type": "markdown",
      "metadata": {
        "id": "bR-PftRxqm8N"
      },
      "source": [
        "En Twitter la localización es puesta por el usuario, no tiene que ser una ubicación real, puede ser cualquier cosa. Además, gran parte de los tweets en nuestra base de datos no cuentan con localización. Por esto, se considera que esta columna de información será de poca ayuda y es mejor quitarla."
      ]
    },
    {
      "cell_type": "code",
      "metadata": {
        "colab": {
          "base_uri": "https://localhost:8080/",
          "height": 195
        },
        "id": "3YGgwnUPp6JN",
        "outputId": "7edfc893-e33a-4b4a-e0dd-faff74a9c7c6"
      },
      "source": [
        "tweets_train = tweets_train.drop([\"location\"], axis=1)\n",
        "tweets_test = tweets_test.drop([\"location\"], axis=1)\n",
        "tweets_train.head(5)"
      ],
      "execution_count": 706,
      "outputs": [
        {
          "output_type": "execute_result",
          "data": {
            "text/html": [
              "<div>\n",
              "<style scoped>\n",
              "    .dataframe tbody tr th:only-of-type {\n",
              "        vertical-align: middle;\n",
              "    }\n",
              "\n",
              "    .dataframe tbody tr th {\n",
              "        vertical-align: top;\n",
              "    }\n",
              "\n",
              "    .dataframe thead th {\n",
              "        text-align: right;\n",
              "    }\n",
              "</style>\n",
              "<table border=\"1\" class=\"dataframe\">\n",
              "  <thead>\n",
              "    <tr style=\"text-align: right;\">\n",
              "      <th></th>\n",
              "      <th>id</th>\n",
              "      <th>keyword</th>\n",
              "      <th>text</th>\n",
              "      <th>target</th>\n",
              "    </tr>\n",
              "  </thead>\n",
              "  <tbody>\n",
              "    <tr>\n",
              "      <th>0</th>\n",
              "      <td>1</td>\n",
              "      <td>NaN</td>\n",
              "      <td>Our Deeds are the Reason of this #earthquake M...</td>\n",
              "      <td>1</td>\n",
              "    </tr>\n",
              "    <tr>\n",
              "      <th>1</th>\n",
              "      <td>4</td>\n",
              "      <td>NaN</td>\n",
              "      <td>Forest fire near La Ronge Sask. Canada</td>\n",
              "      <td>1</td>\n",
              "    </tr>\n",
              "    <tr>\n",
              "      <th>2</th>\n",
              "      <td>5</td>\n",
              "      <td>NaN</td>\n",
              "      <td>All residents asked to 'shelter in place' are ...</td>\n",
              "      <td>1</td>\n",
              "    </tr>\n",
              "    <tr>\n",
              "      <th>3</th>\n",
              "      <td>6</td>\n",
              "      <td>NaN</td>\n",
              "      <td>13,000 people receive #wildfires evacuation or...</td>\n",
              "      <td>1</td>\n",
              "    </tr>\n",
              "    <tr>\n",
              "      <th>4</th>\n",
              "      <td>7</td>\n",
              "      <td>NaN</td>\n",
              "      <td>Just got sent this photo from Ruby #Alaska as ...</td>\n",
              "      <td>1</td>\n",
              "    </tr>\n",
              "  </tbody>\n",
              "</table>\n",
              "</div>"
            ],
            "text/plain": [
              "   id keyword                                               text  target\n",
              "0   1     NaN  Our Deeds are the Reason of this #earthquake M...       1\n",
              "1   4     NaN             Forest fire near La Ronge Sask. Canada       1\n",
              "2   5     NaN  All residents asked to 'shelter in place' are ...       1\n",
              "3   6     NaN  13,000 people receive #wildfires evacuation or...       1\n",
              "4   7     NaN  Just got sent this photo from Ruby #Alaska as ...       1"
            ]
          },
          "metadata": {
            "tags": []
          },
          "execution_count": 706
        }
      ]
    },
    {
      "cell_type": "markdown",
      "metadata": {
        "id": "Xm1XK7GEuoCx"
      },
      "source": [
        "Aún nos quedan valores nulos en la columna de keyword. Podemos reemplazarlos o quitar esos renglones. En este caso, como es un número muy pequeño, 61 valores nulos comparado con los más de 7500 datos, decidimos eliminar esos renglones."
      ]
    },
    {
      "cell_type": "code",
      "metadata": {
        "colab": {
          "base_uri": "https://localhost:8080/",
          "height": 414
        },
        "id": "C-rr8A-kr17P",
        "outputId": "2bf4bfbc-f37c-48aa-cc8f-8a668aab1efa"
      },
      "source": [
        "tweets_train = tweets_train.dropna() \n",
        "print(\"Cantidad de datos válidos por columna: \\n\" + str(tweets_train.count()) + \"\\n\")\n",
        "print(\"Cantidad de datos nulos por columna: \\n\" + str(tweets_train.isnull().sum()))\n",
        "tweets_train.head()"
      ],
      "execution_count": 707,
      "outputs": [
        {
          "output_type": "stream",
          "text": [
            "Cantidad de datos válidos por columna: \n",
            "id         7552\n",
            "keyword    7552\n",
            "text       7552\n",
            "target     7552\n",
            "dtype: int64\n",
            "\n",
            "Cantidad de datos nulos por columna: \n",
            "id         0\n",
            "keyword    0\n",
            "text       0\n",
            "target     0\n",
            "dtype: int64\n"
          ],
          "name": "stdout"
        },
        {
          "output_type": "execute_result",
          "data": {
            "text/html": [
              "<div>\n",
              "<style scoped>\n",
              "    .dataframe tbody tr th:only-of-type {\n",
              "        vertical-align: middle;\n",
              "    }\n",
              "\n",
              "    .dataframe tbody tr th {\n",
              "        vertical-align: top;\n",
              "    }\n",
              "\n",
              "    .dataframe thead th {\n",
              "        text-align: right;\n",
              "    }\n",
              "</style>\n",
              "<table border=\"1\" class=\"dataframe\">\n",
              "  <thead>\n",
              "    <tr style=\"text-align: right;\">\n",
              "      <th></th>\n",
              "      <th>id</th>\n",
              "      <th>keyword</th>\n",
              "      <th>text</th>\n",
              "      <th>target</th>\n",
              "    </tr>\n",
              "  </thead>\n",
              "  <tbody>\n",
              "    <tr>\n",
              "      <th>31</th>\n",
              "      <td>48</td>\n",
              "      <td>ablaze</td>\n",
              "      <td>@bbcmtd Wholesale Markets ablaze http://t.co/l...</td>\n",
              "      <td>1</td>\n",
              "    </tr>\n",
              "    <tr>\n",
              "      <th>32</th>\n",
              "      <td>49</td>\n",
              "      <td>ablaze</td>\n",
              "      <td>We always try to bring the heavy. #metal #RT h...</td>\n",
              "      <td>0</td>\n",
              "    </tr>\n",
              "    <tr>\n",
              "      <th>33</th>\n",
              "      <td>50</td>\n",
              "      <td>ablaze</td>\n",
              "      <td>#AFRICANBAZE: Breaking news:Nigeria flag set a...</td>\n",
              "      <td>1</td>\n",
              "    </tr>\n",
              "    <tr>\n",
              "      <th>34</th>\n",
              "      <td>52</td>\n",
              "      <td>ablaze</td>\n",
              "      <td>Crying out for more! Set me ablaze</td>\n",
              "      <td>0</td>\n",
              "    </tr>\n",
              "    <tr>\n",
              "      <th>35</th>\n",
              "      <td>53</td>\n",
              "      <td>ablaze</td>\n",
              "      <td>On plus side LOOK AT THE SKY LAST NIGHT IT WAS...</td>\n",
              "      <td>0</td>\n",
              "    </tr>\n",
              "  </tbody>\n",
              "</table>\n",
              "</div>"
            ],
            "text/plain": [
              "    id keyword                                               text  target\n",
              "31  48  ablaze  @bbcmtd Wholesale Markets ablaze http://t.co/l...       1\n",
              "32  49  ablaze  We always try to bring the heavy. #metal #RT h...       0\n",
              "33  50  ablaze  #AFRICANBAZE: Breaking news:Nigeria flag set a...       1\n",
              "34  52  ablaze                 Crying out for more! Set me ablaze       0\n",
              "35  53  ablaze  On plus side LOOK AT THE SKY LAST NIGHT IT WAS...       0"
            ]
          },
          "metadata": {
            "tags": []
          },
          "execution_count": 707
        }
      ]
    },
    {
      "cell_type": "markdown",
      "metadata": {
        "id": "-5F39AApMF6P"
      },
      "source": [
        "Ahora hay que explorar nuestros datos. Empezemos viendo la cantidad de tweets sobre desastres falsos y la cantidad de tweets sobre desastres reales\n"
      ]
    },
    {
      "cell_type": "code",
      "metadata": {
        "colab": {
          "base_uri": "https://localhost:8080/",
          "height": 368
        },
        "id": "4cEu3k4lwhgG",
        "outputId": "8ecf5edb-0bd5-4857-bf7d-9297aea9b264"
      },
      "source": [
        "print(\"Tweets de desastres falsos target = 0\")\n",
        "print(\"Tweets de desastres reales target = 1 \\n\")\n",
        "\n",
        "plt.plot()\n",
        "sns.countplot(x=\"target\", data=tweets_train)\n",
        "plt.title(\"Número de tweets sobre desastres reales vs falsos\")\n",
        "plt.ylabel(\"Número de tweets\")"
      ],
      "execution_count": 708,
      "outputs": [
        {
          "output_type": "stream",
          "text": [
            "Tweets de desastres falsos target = 0\n",
            "Tweets de desastres reales target = 1 \n",
            "\n"
          ],
          "name": "stdout"
        },
        {
          "output_type": "execute_result",
          "data": {
            "text/plain": [
              "Text(0, 0.5, 'Número de tweets')"
            ]
          },
          "metadata": {
            "tags": []
          },
          "execution_count": 708
        },
        {
          "output_type": "display_data",
          "data": {
            "image/png": "[encoded data removed]",
            "text/plain": [
              "<Figure size 432x288 with 1 Axes>"
            ]
          },
          "metadata": {
            "tags": []
          }
        }
      ]
    },
    {
      "cell_type": "markdown",
      "metadata": {
        "id": "V9tdF_J60v8U"
      },
      "source": [
        "Se observa que en nuestro datos contamos con una cantidad mayor de tweets sobre desastres falsos que tweets sobre desastres reales. Lo que es de esperarse."
      ]
    },
    {
      "cell_type": "markdown",
      "metadata": {
        "id": "JMAcIThOAVTb"
      },
      "source": [
        "Considerando que es común que los tweets sobre desastres reales tienden a ser más descriptivos, pudiendo ser más largos. Agregaremos una columna con el tamaño del tweet en caracteres."
      ]
    },
    {
      "cell_type": "code",
      "metadata": {
        "colab": {
          "base_uri": "https://localhost:8080/",
          "height": 195
        },
        "id": "TexFRul61mKT",
        "outputId": "67b80e63-9fc6-4cae-db38-9a1fe29fb9f9"
      },
      "source": [
        "tweets_train['size'] = tweets_train.text.apply(len)\n",
        "tweets_train.head()"
      ],
      "execution_count": 709,
      "outputs": [
        {
          "output_type": "execute_result",
          "data": {
            "text/html": [
              "<div>\n",
              "<style scoped>\n",
              "    .dataframe tbody tr th:only-of-type {\n",
              "        vertical-align: middle;\n",
              "    }\n",
              "\n",
              "    .dataframe tbody tr th {\n",
              "        vertical-align: top;\n",
              "    }\n",
              "\n",
              "    .dataframe thead th {\n",
              "        text-align: right;\n",
              "    }\n",
              "</style>\n",
              "<table border=\"1\" class=\"dataframe\">\n",
              "  <thead>\n",
              "    <tr style=\"text-align: right;\">\n",
              "      <th></th>\n",
              "      <th>id</th>\n",
              "      <th>keyword</th>\n",
              "      <th>text</th>\n",
              "      <th>target</th>\n",
              "      <th>size</th>\n",
              "    </tr>\n",
              "  </thead>\n",
              "  <tbody>\n",
              "    <tr>\n",
              "      <th>31</th>\n",
              "      <td>48</td>\n",
              "      <td>ablaze</td>\n",
              "      <td>@bbcmtd Wholesale Markets ablaze http://t.co/l...</td>\n",
              "      <td>1</td>\n",
              "      <td>55</td>\n",
              "    </tr>\n",
              "    <tr>\n",
              "      <th>32</th>\n",
              "      <td>49</td>\n",
              "      <td>ablaze</td>\n",
              "      <td>We always try to bring the heavy. #metal #RT h...</td>\n",
              "      <td>0</td>\n",
              "      <td>67</td>\n",
              "    </tr>\n",
              "    <tr>\n",
              "      <th>33</th>\n",
              "      <td>50</td>\n",
              "      <td>ablaze</td>\n",
              "      <td>#AFRICANBAZE: Breaking news:Nigeria flag set a...</td>\n",
              "      <td>1</td>\n",
              "      <td>82</td>\n",
              "    </tr>\n",
              "    <tr>\n",
              "      <th>34</th>\n",
              "      <td>52</td>\n",
              "      <td>ablaze</td>\n",
              "      <td>Crying out for more! Set me ablaze</td>\n",
              "      <td>0</td>\n",
              "      <td>34</td>\n",
              "    </tr>\n",
              "    <tr>\n",
              "      <th>35</th>\n",
              "      <td>53</td>\n",
              "      <td>ablaze</td>\n",
              "      <td>On plus side LOOK AT THE SKY LAST NIGHT IT WAS...</td>\n",
              "      <td>0</td>\n",
              "      <td>76</td>\n",
              "    </tr>\n",
              "  </tbody>\n",
              "</table>\n",
              "</div>"
            ],
            "text/plain": [
              "    id keyword                                               text  target  size\n",
              "31  48  ablaze  @bbcmtd Wholesale Markets ablaze http://t.co/l...       1    55\n",
              "32  49  ablaze  We always try to bring the heavy. #metal #RT h...       0    67\n",
              "33  50  ablaze  #AFRICANBAZE: Breaking news:Nigeria flag set a...       1    82\n",
              "34  52  ablaze                 Crying out for more! Set me ablaze       0    34\n",
              "35  53  ablaze  On plus side LOOK AT THE SKY LAST NIGHT IT WAS...       0    76"
            ]
          },
          "metadata": {
            "tags": []
          },
          "execution_count": 709
        }
      ]
    },
    {
      "cell_type": "markdown",
      "metadata": {
        "id": "EJ04Mu8d_4wk"
      },
      "source": [
        "Graficaremos la distribucion de los tweets sobre desastre falsos y los sobre desastres reales, de acuerdo al tamaño de caracteres. Esto para observar si se puede notar algo interesante."
      ]
    },
    {
      "cell_type": "code",
      "metadata": {
        "colab": {
          "base_uri": "https://localhost:8080/",
          "height": 302
        },
        "id": "R5aIvcJV8Obu",
        "outputId": "c2760493-5c07-47d6-8d1a-9d89977b315f"
      },
      "source": [
        "plt.figure()\n",
        "tweets_train[tweets_train.target==0]['size'].plot(kind='hist', color='blue', label='Desastres falsos', alpha=0.5)                           \n",
        "tweets_train[tweets_train.target==1]['size'].plot(kind='hist', color='red', label='Desastres reales', alpha=0.5)                                  \n",
        "plt.legend()\n",
        "plt.xlabel(\"Tamaño de los tweets en caracteres\")"
      ],
      "execution_count": 710,
      "outputs": [
        {
          "output_type": "execute_result",
          "data": {
            "text/plain": [
              "Text(0.5, 0, 'Tamaño de los tweets en caracteres')"
            ]
          },
          "metadata": {
            "tags": []
          },
          "execution_count": 710
        },
        {
          "output_type": "display_data",
          "data": {
            "image/png": "[encoded data removed]",
            "text/plain": [
              "<Figure size 432x288 with 1 Axes>"
            ]
          },
          "metadata": {
            "tags": []
          }
        }
      ]
    },
    {
      "cell_type": "code",
      "metadata": {
        "colab": {
          "base_uri": "https://localhost:8080/"
        },
        "id": "MzPjTjLhA8AL",
        "outputId": "9490e372-2fd1-416d-f460-5db33bb7e145"
      },
      "source": [
        "#Tweets de desastres falsos\n",
        "print(\"Descripción estatística sobre el tamaño en los tweets de desastres falsos\")\n",
        "tweets_train[tweets_train.target==0]['size'].describe()"
      ],
      "execution_count": 711,
      "outputs": [
        {
          "output_type": "stream",
          "text": [
            "Descripción estatística sobre el tamaño en los tweets de desastres falsos\n"
          ],
          "name": "stdout"
        },
        {
          "output_type": "execute_result",
          "data": {
            "text/plain": [
              "count    4323.000000\n",
              "mean       96.017349\n",
              "std        35.613606\n",
              "min         7.000000\n",
              "25%        68.000000\n",
              "50%       101.000000\n",
              "75%       130.000000\n",
              "max       157.000000\n",
              "Name: size, dtype: float64"
            ]
          },
          "metadata": {
            "tags": []
          },
          "execution_count": 711
        }
      ]
    },
    {
      "cell_type": "code",
      "metadata": {
        "colab": {
          "base_uri": "https://localhost:8080/"
        },
        "id": "_bEKqZuvBHKT",
        "outputId": "b724426b-b8ae-4b1e-c7f0-57cf479416b7"
      },
      "source": [
        "#Tweets de desastres reales\n",
        "print(\"Descripción estatística sobre el tamaño en los tweets de desastres reales\")\n",
        "tweets_train[tweets_train.target==1]['size'].describe()"
      ],
      "execution_count": 712,
      "outputs": [
        {
          "output_type": "stream",
          "text": [
            "Descripción estatística sobre el tamaño en los tweets de desastres reales\n"
          ],
          "name": "stdout"
        },
        {
          "output_type": "execute_result",
          "data": {
            "text/plain": [
              "count    3229.000000\n",
              "mean      108.270672\n",
              "std        29.215589\n",
              "min        17.000000\n",
              "25%        88.000000\n",
              "50%       115.000000\n",
              "75%       136.000000\n",
              "max       151.000000\n",
              "Name: size, dtype: float64"
            ]
          },
          "metadata": {
            "tags": []
          },
          "execution_count": 712
        }
      ]
    },
    {
      "cell_type": "markdown",
      "metadata": {
        "id": "OqMPxX6R-cUV"
      },
      "source": [
        "En la gráfica se da a notar que los tweets sobre desastres falsos muestran una frecuencia más alta en los tweets de poco tamaño, a diferencia de los tweets sobre desastres reales que tienen una frecuencia baja en estos tamaños.\n",
        "Con la información de las estadítsticas vemos que los tweets de desastres reales tienden a un tamaño más grande que los de desastres falsos. \n"
      ]
    },
    {
      "cell_type": "markdown",
      "metadata": {
        "id": "Puu7v9aONe8M"
      },
      "source": [
        "Es momento de ver cuáles son las palabras más comunes en nuestros tweets."
      ]
    },
    {
      "cell_type": "code",
      "metadata": {
        "colab": {
          "base_uri": "https://localhost:8080/",
          "height": 438
        },
        "id": "WjiOIg6h-R0K",
        "outputId": "a43991d3-f962-4f14-b852-1d3d25984744"
      },
      "source": [
        "tweets_por_palabras = tweets_train['text'].apply(lambda x:str(x).split())\n",
        "top = Counter([item for sublist in tweets_por_palabras for item in sublist])\n",
        "top_words = pd.DataFrame(top.most_common(20))\n",
        "top_words.columns = ['Palabra','Conteo']\n",
        "top_words.style.background_gradient(cmap='Greens')"
      ],
      "execution_count": 713,
      "outputs": [
        {
          "output_type": "execute_result",
          "data": {
            "text/html": [
              "<style  type=\"text/css\" >\n",
              "#T_5bdeb9da_3906_11eb_a995_0242ac1c0002row0_col1{\n",
              "            background-color:  #00441b;\n",
              "            color:  #f1f1f1;\n",
              "        }#T_5bdeb9da_3906_11eb_a995_0242ac1c0002row1_col1{\n",
              "            background-color:  #37a055;\n",
              "            color:  #000000;\n",
              "        }#T_5bdeb9da_3906_11eb_a995_0242ac1c0002row2_col1{\n",
              "            background-color:  #3ba458;\n",
              "            color:  #000000;\n",
              "        }#T_5bdeb9da_3906_11eb_a995_0242ac1c0002row3_col1{\n",
              "            background-color:  #42ab5d;\n",
              "            color:  #000000;\n",
              "        }#T_5bdeb9da_3906_11eb_a995_0242ac1c0002row4_col1{\n",
              "            background-color:  #46ae60;\n",
              "            color:  #000000;\n",
              "        }#T_5bdeb9da_3906_11eb_a995_0242ac1c0002row5_col1{\n",
              "            background-color:  #91d28e;\n",
              "            color:  #000000;\n",
              "        }#T_5bdeb9da_3906_11eb_a995_0242ac1c0002row6_col1{\n",
              "            background-color:  #a2d99c;\n",
              "            color:  #000000;\n",
              "        }#T_5bdeb9da_3906_11eb_a995_0242ac1c0002row7_col1{\n",
              "            background-color:  #d3eecd;\n",
              "            color:  #000000;\n",
              "        }#T_5bdeb9da_3906_11eb_a995_0242ac1c0002row8_col1{\n",
              "            background-color:  #d4eece;\n",
              "            color:  #000000;\n",
              "        }#T_5bdeb9da_3906_11eb_a995_0242ac1c0002row9_col1{\n",
              "            background-color:  #d8f0d2;\n",
              "            color:  #000000;\n",
              "        }#T_5bdeb9da_3906_11eb_a995_0242ac1c0002row10_col1{\n",
              "            background-color:  #d9f0d3;\n",
              "            color:  #000000;\n",
              "        }#T_5bdeb9da_3906_11eb_a995_0242ac1c0002row11_col1{\n",
              "            background-color:  #e6f5e1;\n",
              "            color:  #000000;\n",
              "        }#T_5bdeb9da_3906_11eb_a995_0242ac1c0002row12_col1,#T_5bdeb9da_3906_11eb_a995_0242ac1c0002row13_col1{\n",
              "            background-color:  #ecf8e8;\n",
              "            color:  #000000;\n",
              "        }#T_5bdeb9da_3906_11eb_a995_0242ac1c0002row14_col1{\n",
              "            background-color:  #eff9eb;\n",
              "            color:  #000000;\n",
              "        }#T_5bdeb9da_3906_11eb_a995_0242ac1c0002row15_col1,#T_5bdeb9da_3906_11eb_a995_0242ac1c0002row16_col1{\n",
              "            background-color:  #f0f9ec;\n",
              "            color:  #000000;\n",
              "        }#T_5bdeb9da_3906_11eb_a995_0242ac1c0002row17_col1{\n",
              "            background-color:  #f1faee;\n",
              "            color:  #000000;\n",
              "        }#T_5bdeb9da_3906_11eb_a995_0242ac1c0002row18_col1{\n",
              "            background-color:  #f3faf0;\n",
              "            color:  #000000;\n",
              "        }#T_5bdeb9da_3906_11eb_a995_0242ac1c0002row19_col1{\n",
              "            background-color:  #f7fcf5;\n",
              "            color:  #000000;\n",
              "        }</style><table id=\"T_5bdeb9da_3906_11eb_a995_0242ac1c0002\" ><thead>    <tr>        <th class=\"blank level0\" ></th>        <th class=\"col_heading level0 col0\" >Palabra</th>        <th class=\"col_heading level0 col1\" >Conteo</th>    </tr></thead><tbody>\n",
              "                <tr>\n",
              "                        <th id=\"T_5bdeb9da_3906_11eb_a995_0242ac1c0002level0_row0\" class=\"row_heading level0 row0\" >0</th>\n",
              "                        <td id=\"T_5bdeb9da_3906_11eb_a995_0242ac1c0002row0_col0\" class=\"data row0 col0\" >the</td>\n",
              "                        <td id=\"T_5bdeb9da_3906_11eb_a995_0242ac1c0002row0_col1\" class=\"data row0 col1\" >2562</td>\n",
              "            </tr>\n",
              "            <tr>\n",
              "                        <th id=\"T_5bdeb9da_3906_11eb_a995_0242ac1c0002level0_row1\" class=\"row_heading level0 row1\" >1</th>\n",
              "                        <td id=\"T_5bdeb9da_3906_11eb_a995_0242ac1c0002row1_col0\" class=\"data row1 col0\" >a</td>\n",
              "                        <td id=\"T_5bdeb9da_3906_11eb_a995_0242ac1c0002row1_col1\" class=\"data row1 col1\" >1831</td>\n",
              "            </tr>\n",
              "            <tr>\n",
              "                        <th id=\"T_5bdeb9da_3906_11eb_a995_0242ac1c0002level0_row2\" class=\"row_heading level0 row2\" >2</th>\n",
              "                        <td id=\"T_5bdeb9da_3906_11eb_a995_0242ac1c0002row2_col0\" class=\"data row2 col0\" >to</td>\n",
              "                        <td id=\"T_5bdeb9da_3906_11eb_a995_0242ac1c0002row2_col1\" class=\"data row2 col1\" >1797</td>\n",
              "            </tr>\n",
              "            <tr>\n",
              "                        <th id=\"T_5bdeb9da_3906_11eb_a995_0242ac1c0002level0_row3\" class=\"row_heading level0 row3\" >3</th>\n",
              "                        <td id=\"T_5bdeb9da_3906_11eb_a995_0242ac1c0002row3_col0\" class=\"data row3 col0\" >in</td>\n",
              "                        <td id=\"T_5bdeb9da_3906_11eb_a995_0242ac1c0002row3_col1\" class=\"data row3 col1\" >1737</td>\n",
              "            </tr>\n",
              "            <tr>\n",
              "                        <th id=\"T_5bdeb9da_3906_11eb_a995_0242ac1c0002level0_row4\" class=\"row_heading level0 row4\" >4</th>\n",
              "                        <td id=\"T_5bdeb9da_3906_11eb_a995_0242ac1c0002row4_col0\" class=\"data row4 col0\" >of</td>\n",
              "                        <td id=\"T_5bdeb9da_3906_11eb_a995_0242ac1c0002row4_col1\" class=\"data row4 col1\" >1711</td>\n",
              "            </tr>\n",
              "            <tr>\n",
              "                        <th id=\"T_5bdeb9da_3906_11eb_a995_0242ac1c0002level0_row5\" class=\"row_heading level0 row5\" >5</th>\n",
              "                        <td id=\"T_5bdeb9da_3906_11eb_a995_0242ac1c0002row5_col0\" class=\"data row5 col0\" >and</td>\n",
              "                        <td id=\"T_5bdeb9da_3906_11eb_a995_0242ac1c0002row5_col1\" class=\"data row5 col1\" >1294</td>\n",
              "            </tr>\n",
              "            <tr>\n",
              "                        <th id=\"T_5bdeb9da_3906_11eb_a995_0242ac1c0002level0_row6\" class=\"row_heading level0 row6\" >6</th>\n",
              "                        <td id=\"T_5bdeb9da_3906_11eb_a995_0242ac1c0002row6_col0\" class=\"data row6 col0\" >I</td>\n",
              "                        <td id=\"T_5bdeb9da_3906_11eb_a995_0242ac1c0002row6_col1\" class=\"data row6 col1\" >1188</td>\n",
              "            </tr>\n",
              "            <tr>\n",
              "                        <th id=\"T_5bdeb9da_3906_11eb_a995_0242ac1c0002level0_row7\" class=\"row_heading level0 row7\" >7</th>\n",
              "                        <td id=\"T_5bdeb9da_3906_11eb_a995_0242ac1c0002row7_col0\" class=\"data row7 col0\" >for</td>\n",
              "                        <td id=\"T_5bdeb9da_3906_11eb_a995_0242ac1c0002row7_col1\" class=\"data row7 col1\" >815</td>\n",
              "            </tr>\n",
              "            <tr>\n",
              "                        <th id=\"T_5bdeb9da_3906_11eb_a995_0242ac1c0002level0_row8\" class=\"row_heading level0 row8\" >8</th>\n",
              "                        <td id=\"T_5bdeb9da_3906_11eb_a995_0242ac1c0002row8_col0\" class=\"data row8 col0\" >is</td>\n",
              "                        <td id=\"T_5bdeb9da_3906_11eb_a995_0242ac1c0002row8_col1\" class=\"data row8 col1\" >804</td>\n",
              "            </tr>\n",
              "            <tr>\n",
              "                        <th id=\"T_5bdeb9da_3906_11eb_a995_0242ac1c0002level0_row9\" class=\"row_heading level0 row9\" >9</th>\n",
              "                        <td id=\"T_5bdeb9da_3906_11eb_a995_0242ac1c0002row9_col0\" class=\"data row9 col0\" >on</td>\n",
              "                        <td id=\"T_5bdeb9da_3906_11eb_a995_0242ac1c0002row9_col1\" class=\"data row9 col1\" >768</td>\n",
              "            </tr>\n",
              "            <tr>\n",
              "                        <th id=\"T_5bdeb9da_3906_11eb_a995_0242ac1c0002level0_row10\" class=\"row_heading level0 row10\" >10</th>\n",
              "                        <td id=\"T_5bdeb9da_3906_11eb_a995_0242ac1c0002row10_col0\" class=\"data row10 col0\" >-</td>\n",
              "                        <td id=\"T_5bdeb9da_3906_11eb_a995_0242ac1c0002row10_col1\" class=\"data row10 col1\" >757</td>\n",
              "            </tr>\n",
              "            <tr>\n",
              "                        <th id=\"T_5bdeb9da_3906_11eb_a995_0242ac1c0002level0_row11\" class=\"row_heading level0 row11\" >11</th>\n",
              "                        <td id=\"T_5bdeb9da_3906_11eb_a995_0242ac1c0002row11_col0\" class=\"data row11 col0\" >you</td>\n",
              "                        <td id=\"T_5bdeb9da_3906_11eb_a995_0242ac1c0002row11_col1\" class=\"data row11 col1\" >631</td>\n",
              "            </tr>\n",
              "            <tr>\n",
              "                        <th id=\"T_5bdeb9da_3906_11eb_a995_0242ac1c0002level0_row12\" class=\"row_heading level0 row12\" >12</th>\n",
              "                        <td id=\"T_5bdeb9da_3906_11eb_a995_0242ac1c0002row12_col0\" class=\"data row12 col0\" >The</td>\n",
              "                        <td id=\"T_5bdeb9da_3906_11eb_a995_0242ac1c0002row12_col1\" class=\"data row12 col1\" >549</td>\n",
              "            </tr>\n",
              "            <tr>\n",
              "                        <th id=\"T_5bdeb9da_3906_11eb_a995_0242ac1c0002level0_row13\" class=\"row_heading level0 row13\" >13</th>\n",
              "                        <td id=\"T_5bdeb9da_3906_11eb_a995_0242ac1c0002row13_col0\" class=\"data row13 col0\" >my</td>\n",
              "                        <td id=\"T_5bdeb9da_3906_11eb_a995_0242ac1c0002row13_col1\" class=\"data row13 col1\" >548</td>\n",
              "            </tr>\n",
              "            <tr>\n",
              "                        <th id=\"T_5bdeb9da_3906_11eb_a995_0242ac1c0002level0_row14\" class=\"row_heading level0 row14\" >14</th>\n",
              "                        <td id=\"T_5bdeb9da_3906_11eb_a995_0242ac1c0002row14_col0\" class=\"data row14 col0\" >with</td>\n",
              "                        <td id=\"T_5bdeb9da_3906_11eb_a995_0242ac1c0002row14_col1\" class=\"data row14 col1\" >507</td>\n",
              "            </tr>\n",
              "            <tr>\n",
              "                        <th id=\"T_5bdeb9da_3906_11eb_a995_0242ac1c0002level0_row15\" class=\"row_heading level0 row15\" >15</th>\n",
              "                        <td id=\"T_5bdeb9da_3906_11eb_a995_0242ac1c0002row15_col0\" class=\"data row15 col0\" >that</td>\n",
              "                        <td id=\"T_5bdeb9da_3906_11eb_a995_0242ac1c0002row15_col1\" class=\"data row15 col1\" >489</td>\n",
              "            </tr>\n",
              "            <tr>\n",
              "                        <th id=\"T_5bdeb9da_3906_11eb_a995_0242ac1c0002level0_row16\" class=\"row_heading level0 row16\" >16</th>\n",
              "                        <td id=\"T_5bdeb9da_3906_11eb_a995_0242ac1c0002row16_col0\" class=\"data row16 col0\" >at</td>\n",
              "                        <td id=\"T_5bdeb9da_3906_11eb_a995_0242ac1c0002row16_col1\" class=\"data row16 col1\" >483</td>\n",
              "            </tr>\n",
              "            <tr>\n",
              "                        <th id=\"T_5bdeb9da_3906_11eb_a995_0242ac1c0002level0_row17\" class=\"row_heading level0 row17\" >17</th>\n",
              "                        <td id=\"T_5bdeb9da_3906_11eb_a995_0242ac1c0002row17_col0\" class=\"data row17 col0\" >by</td>\n",
              "                        <td id=\"T_5bdeb9da_3906_11eb_a995_0242ac1c0002row17_col1\" class=\"data row17 col1\" >467</td>\n",
              "            </tr>\n",
              "            <tr>\n",
              "                        <th id=\"T_5bdeb9da_3906_11eb_a995_0242ac1c0002level0_row18\" class=\"row_heading level0 row18\" >18</th>\n",
              "                        <td id=\"T_5bdeb9da_3906_11eb_a995_0242ac1c0002row18_col0\" class=\"data row18 col0\" >it</td>\n",
              "                        <td id=\"T_5bdeb9da_3906_11eb_a995_0242ac1c0002row18_col1\" class=\"data row18 col1\" >432</td>\n",
              "            </tr>\n",
              "            <tr>\n",
              "                        <th id=\"T_5bdeb9da_3906_11eb_a995_0242ac1c0002level0_row19\" class=\"row_heading level0 row19\" >19</th>\n",
              "                        <td id=\"T_5bdeb9da_3906_11eb_a995_0242ac1c0002row19_col0\" class=\"data row19 col0\" >be</td>\n",
              "                        <td id=\"T_5bdeb9da_3906_11eb_a995_0242ac1c0002row19_col1\" class=\"data row19 col1\" >371</td>\n",
              "            </tr>\n",
              "    </tbody></table>"
            ],
            "text/plain": [
              "<pandas.io.formats.style.Styler at 0x7fb5dc0f3048>"
            ]
          },
          "metadata": {
            "tags": []
          },
          "execution_count": 713
        }
      ]
    },
    {
      "cell_type": "markdown",
      "metadata": {
        "id": "5h7Vfy7e_BZ8"
      },
      "source": [
        "Se observa que hay muchas palabras que no aportan nada, porque son muy comunes. También se repiten por las mayúsculas.\n",
        "Necesitamos limpiar los tweets, quitar enlaces, quitar signos, pasarlos a minúsculas, y quitar palabras comúnes del inglés, conocidas como \"stopwords\""
      ]
    },
    {
      "cell_type": "code",
      "metadata": {
        "colab": {
          "base_uri": "https://localhost:8080/",
          "height": 212
        },
        "id": "nvqHSxRkOH0t",
        "outputId": "ceb520c4-9b16-4adb-f99e-35cd8b6ac711"
      },
      "source": [
        "print(\"Tweets antes de la limpieza\")\n",
        "tweets_train.head()"
      ],
      "execution_count": 714,
      "outputs": [
        {
          "output_type": "stream",
          "text": [
            "Tweets antes de la limpieza\n"
          ],
          "name": "stdout"
        },
        {
          "output_type": "execute_result",
          "data": {
            "text/html": [
              "<div>\n",
              "<style scoped>\n",
              "    .dataframe tbody tr th:only-of-type {\n",
              "        vertical-align: middle;\n",
              "    }\n",
              "\n",
              "    .dataframe tbody tr th {\n",
              "        vertical-align: top;\n",
              "    }\n",
              "\n",
              "    .dataframe thead th {\n",
              "        text-align: right;\n",
              "    }\n",
              "</style>\n",
              "<table border=\"1\" class=\"dataframe\">\n",
              "  <thead>\n",
              "    <tr style=\"text-align: right;\">\n",
              "      <th></th>\n",
              "      <th>id</th>\n",
              "      <th>keyword</th>\n",
              "      <th>text</th>\n",
              "      <th>target</th>\n",
              "      <th>size</th>\n",
              "    </tr>\n",
              "  </thead>\n",
              "  <tbody>\n",
              "    <tr>\n",
              "      <th>31</th>\n",
              "      <td>48</td>\n",
              "      <td>ablaze</td>\n",
              "      <td>@bbcmtd Wholesale Markets ablaze http://t.co/l...</td>\n",
              "      <td>1</td>\n",
              "      <td>55</td>\n",
              "    </tr>\n",
              "    <tr>\n",
              "      <th>32</th>\n",
              "      <td>49</td>\n",
              "      <td>ablaze</td>\n",
              "      <td>We always try to bring the heavy. #metal #RT h...</td>\n",
              "      <td>0</td>\n",
              "      <td>67</td>\n",
              "    </tr>\n",
              "    <tr>\n",
              "      <th>33</th>\n",
              "      <td>50</td>\n",
              "      <td>ablaze</td>\n",
              "      <td>#AFRICANBAZE: Breaking news:Nigeria flag set a...</td>\n",
              "      <td>1</td>\n",
              "      <td>82</td>\n",
              "    </tr>\n",
              "    <tr>\n",
              "      <th>34</th>\n",
              "      <td>52</td>\n",
              "      <td>ablaze</td>\n",
              "      <td>Crying out for more! Set me ablaze</td>\n",
              "      <td>0</td>\n",
              "      <td>34</td>\n",
              "    </tr>\n",
              "    <tr>\n",
              "      <th>35</th>\n",
              "      <td>53</td>\n",
              "      <td>ablaze</td>\n",
              "      <td>On plus side LOOK AT THE SKY LAST NIGHT IT WAS...</td>\n",
              "      <td>0</td>\n",
              "      <td>76</td>\n",
              "    </tr>\n",
              "  </tbody>\n",
              "</table>\n",
              "</div>"
            ],
            "text/plain": [
              "    id keyword                                               text  target  size\n",
              "31  48  ablaze  @bbcmtd Wholesale Markets ablaze http://t.co/l...       1    55\n",
              "32  49  ablaze  We always try to bring the heavy. #metal #RT h...       0    67\n",
              "33  50  ablaze  #AFRICANBAZE: Breaking news:Nigeria flag set a...       1    82\n",
              "34  52  ablaze                 Crying out for more! Set me ablaze       0    34\n",
              "35  53  ablaze  On plus side LOOK AT THE SKY LAST NIGHT IT WAS...       0    76"
            ]
          },
          "metadata": {
            "tags": []
          },
          "execution_count": 714
        }
      ]
    },
    {
      "cell_type": "code",
      "metadata": {
        "id": "DxuwWzH2yKoF",
        "colab": {
          "base_uri": "https://localhost:8080/",
          "height": 212
        },
        "outputId": "aa18093c-6ce9-4f27-f2bd-7d9096fb9488"
      },
      "source": [
        "def clean_text(text):\n",
        "    text = str(text).lower()\n",
        "    text = re.sub('https?://\\S+|www\\.\\S+', '', text)\n",
        "    text = re.sub('[%s]' % re.escape(string.punctuation), '', text)\n",
        "    text = re.sub('\\n', '', text)\n",
        "    return text\n",
        "\n",
        "tweets_train['text'] = tweets_train['text'].apply(lambda x:clean_text(x))\n",
        "tweets_test['text'] = tweets_test['text'].apply(lambda x:clean_text(x))\n",
        "print(\"Tweets después de la limpieza\")\n",
        "tweets_train.head()"
      ],
      "execution_count": 715,
      "outputs": [
        {
          "output_type": "stream",
          "text": [
            "Tweets después de la limpieza\n"
          ],
          "name": "stdout"
        },
        {
          "output_type": "execute_result",
          "data": {
            "text/html": [
              "<div>\n",
              "<style scoped>\n",
              "    .dataframe tbody tr th:only-of-type {\n",
              "        vertical-align: middle;\n",
              "    }\n",
              "\n",
              "    .dataframe tbody tr th {\n",
              "        vertical-align: top;\n",
              "    }\n",
              "\n",
              "    .dataframe thead th {\n",
              "        text-align: right;\n",
              "    }\n",
              "</style>\n",
              "<table border=\"1\" class=\"dataframe\">\n",
              "  <thead>\n",
              "    <tr style=\"text-align: right;\">\n",
              "      <th></th>\n",
              "      <th>id</th>\n",
              "      <th>keyword</th>\n",
              "      <th>text</th>\n",
              "      <th>target</th>\n",
              "      <th>size</th>\n",
              "    </tr>\n",
              "  </thead>\n",
              "  <tbody>\n",
              "    <tr>\n",
              "      <th>31</th>\n",
              "      <td>48</td>\n",
              "      <td>ablaze</td>\n",
              "      <td>bbcmtd wholesale markets ablaze</td>\n",
              "      <td>1</td>\n",
              "      <td>55</td>\n",
              "    </tr>\n",
              "    <tr>\n",
              "      <th>32</th>\n",
              "      <td>49</td>\n",
              "      <td>ablaze</td>\n",
              "      <td>we always try to bring the heavy metal rt</td>\n",
              "      <td>0</td>\n",
              "      <td>67</td>\n",
              "    </tr>\n",
              "    <tr>\n",
              "      <th>33</th>\n",
              "      <td>50</td>\n",
              "      <td>ablaze</td>\n",
              "      <td>africanbaze breaking newsnigeria flag set abla...</td>\n",
              "      <td>1</td>\n",
              "      <td>82</td>\n",
              "    </tr>\n",
              "    <tr>\n",
              "      <th>34</th>\n",
              "      <td>52</td>\n",
              "      <td>ablaze</td>\n",
              "      <td>crying out for more set me ablaze</td>\n",
              "      <td>0</td>\n",
              "      <td>34</td>\n",
              "    </tr>\n",
              "    <tr>\n",
              "      <th>35</th>\n",
              "      <td>53</td>\n",
              "      <td>ablaze</td>\n",
              "      <td>on plus side look at the sky last night it was...</td>\n",
              "      <td>0</td>\n",
              "      <td>76</td>\n",
              "    </tr>\n",
              "  </tbody>\n",
              "</table>\n",
              "</div>"
            ],
            "text/plain": [
              "    id keyword                                               text  target  size\n",
              "31  48  ablaze                   bbcmtd wholesale markets ablaze        1    55\n",
              "32  49  ablaze         we always try to bring the heavy metal rt        0    67\n",
              "33  50  ablaze  africanbaze breaking newsnigeria flag set abla...       1    82\n",
              "34  52  ablaze                  crying out for more set me ablaze       0    34\n",
              "35  53  ablaze  on plus side look at the sky last night it was...       0    76"
            ]
          },
          "metadata": {
            "tags": []
          },
          "execution_count": 715
        }
      ]
    },
    {
      "cell_type": "markdown",
      "metadata": {
        "id": "CWqsEF18Opzt"
      },
      "source": [
        "Ahora removeremos las palabras comunes, o stopwords"
      ]
    },
    {
      "cell_type": "code",
      "metadata": {
        "id": "FLNb9MbkBMI6",
        "colab": {
          "base_uri": "https://localhost:8080/",
          "height": 212
        },
        "outputId": "9e76eaaf-f619-440e-9a63-016ae4845034"
      },
      "source": [
        "tweets_train['text'] = tweets_train['text'].apply(lambda x:remove_stopwords(x))\n",
        "tweets_test['text'] = tweets_test['text'].apply(lambda x:remove_stopwords(x))\n",
        "print(\"Tweets después de quitar stopwords\")\n",
        "tweets_train.head()"
      ],
      "execution_count": 716,
      "outputs": [
        {
          "output_type": "stream",
          "text": [
            "Tweets después de quitar stopwords\n"
          ],
          "name": "stdout"
        },
        {
          "output_type": "execute_result",
          "data": {
            "text/html": [
              "<div>\n",
              "<style scoped>\n",
              "    .dataframe tbody tr th:only-of-type {\n",
              "        vertical-align: middle;\n",
              "    }\n",
              "\n",
              "    .dataframe tbody tr th {\n",
              "        vertical-align: top;\n",
              "    }\n",
              "\n",
              "    .dataframe thead th {\n",
              "        text-align: right;\n",
              "    }\n",
              "</style>\n",
              "<table border=\"1\" class=\"dataframe\">\n",
              "  <thead>\n",
              "    <tr style=\"text-align: right;\">\n",
              "      <th></th>\n",
              "      <th>id</th>\n",
              "      <th>keyword</th>\n",
              "      <th>text</th>\n",
              "      <th>target</th>\n",
              "      <th>size</th>\n",
              "    </tr>\n",
              "  </thead>\n",
              "  <tbody>\n",
              "    <tr>\n",
              "      <th>31</th>\n",
              "      <td>48</td>\n",
              "      <td>ablaze</td>\n",
              "      <td>bbcmtd wholesale markets ablaze</td>\n",
              "      <td>1</td>\n",
              "      <td>55</td>\n",
              "    </tr>\n",
              "    <tr>\n",
              "      <th>32</th>\n",
              "      <td>49</td>\n",
              "      <td>ablaze</td>\n",
              "      <td>try bring heavy metal rt</td>\n",
              "      <td>0</td>\n",
              "      <td>67</td>\n",
              "    </tr>\n",
              "    <tr>\n",
              "      <th>33</th>\n",
              "      <td>50</td>\n",
              "      <td>ablaze</td>\n",
              "      <td>africanbaze breaking newsnigeria flag set abla...</td>\n",
              "      <td>1</td>\n",
              "      <td>82</td>\n",
              "    </tr>\n",
              "    <tr>\n",
              "      <th>34</th>\n",
              "      <td>52</td>\n",
              "      <td>ablaze</td>\n",
              "      <td>crying set ablaze</td>\n",
              "      <td>0</td>\n",
              "      <td>34</td>\n",
              "    </tr>\n",
              "    <tr>\n",
              "      <th>35</th>\n",
              "      <td>53</td>\n",
              "      <td>ablaze</td>\n",
              "      <td>plus look sky night ablaze</td>\n",
              "      <td>0</td>\n",
              "      <td>76</td>\n",
              "    </tr>\n",
              "  </tbody>\n",
              "</table>\n",
              "</div>"
            ],
            "text/plain": [
              "    id keyword                                               text  target  size\n",
              "31  48  ablaze                    bbcmtd wholesale markets ablaze       1    55\n",
              "32  49  ablaze                           try bring heavy metal rt       0    67\n",
              "33  50  ablaze  africanbaze breaking newsnigeria flag set abla...       1    82\n",
              "34  52  ablaze                                  crying set ablaze       0    34\n",
              "35  53  ablaze                         plus look sky night ablaze       0    76"
            ]
          },
          "metadata": {
            "tags": []
          },
          "execution_count": 716
        }
      ]
    },
    {
      "cell_type": "markdown",
      "metadata": {
        "id": "fR7jhOSlO1OE"
      },
      "source": [
        "Después de hacer esto, ya podemos ver las palabras significativas más comunes en nuestros tweets."
      ]
    },
    {
      "cell_type": "code",
      "metadata": {
        "colab": {
          "base_uri": "https://localhost:8080/",
          "height": 517
        },
        "id": "sR9T_jqKBewy",
        "outputId": "985dafe3-e4ca-4ad4-d5fd-087687ef36b2"
      },
      "source": [
        "tweets_por_palabras = tweets_train['text'].apply(lambda x:str(x).split())\n",
        "top = Counter([item for sublist in tweets_por_palabras for item in sublist])\n",
        "top_words = pd.DataFrame(top.most_common(20))\n",
        "top_words.columns = ['Palabra','Conteo']\n",
        "fig = px.bar(top_words, x=\"Conteo\", y=\"Palabra\", title='Palabras más comunes en los tweets', orientation='h',width=700, height=500, color='Palabra')\n",
        "fig.show()"
      ],
      "execution_count": 717,
      "outputs": [
        {
          "output_type": "display_data",
          "data": {
            "text/html": [
              "<html>\n",
              "<head><meta charset=\"utf-8\" /></head>\n",
              "<body>\n",
              "    <div>\n",
              "            <script src=\"https://cdnjs.cloudflare.com/ajax/libs/mathjax/2.7.5/MathJax.js?config=TeX-AMS-MML_SVG\"></script><script type=\"text/javascript\">if (window.MathJax) {MathJax.Hub.Config({SVG: {font: \"STIX-Web\"}});}</script>\n",
              "                <script type=\"text/javascript\">window.PlotlyConfig = {MathJaxConfig: 'local'};</script>\n",
              "        <script src=\"https://cdn.plot.ly/plotly-latest.min.js\"></script>    \n",
              "            <div id=\"068098f3-5c69-40fd-8ab4-09cd113abda4\" class=\"plotly-graph-div\" style=\"height:500px; width:700px;\"></div>\n",
              "            <script type=\"text/javascript\">\n",
              "                \n",
              "                    window.PLOTLYENV=window.PLOTLYENV || {};\n",
              "                    \n",
              "                if (document.getElementById(\"068098f3-5c69-40fd-8ab4-09cd113abda4\")) {\n",
              "                    Plotly.newPlot(\n",
              "                        '068098f3-5c69-40fd-8ab4-09cd113abda4',\n",
              "                        [{\"alignmentgroup\": \"True\", \"hoverlabel\": {\"namelength\": 0}, \"hovertemplate\": \"Palabra=%{y}<br>Conteo=%{x}\", \"legendgroup\": \"Palabra=like\", \"marker\": {\"color\": \"#636efa\"}, \"name\": \"Palabra=like\", \"offsetgroup\": \"Palabra=like\", \"orientation\": \"h\", \"showlegend\": true, \"textposition\": \"auto\", \"type\": \"bar\", \"x\": [343], \"xaxis\": \"x\", \"y\": [\"like\"], \"yaxis\": \"y\"}, {\"alignmentgroup\": \"True\", \"hoverlabel\": {\"namelength\": 0}, \"hovertemplate\": \"Palabra=%{y}<br>Conteo=%{x}\", \"legendgroup\": \"Palabra=amp\", \"marker\": {\"color\": \"#EF553B\"}, \"name\": \"Palabra=amp\", \"offsetgroup\": \"Palabra=amp\", \"orientation\": \"h\", \"showlegend\": true, \"textposition\": \"auto\", \"type\": \"bar\", \"x\": [298], \"xaxis\": \"x\", \"y\": [\"amp\"], \"yaxis\": \"y\"}, {\"alignmentgroup\": \"True\", \"hoverlabel\": {\"namelength\": 0}, \"hovertemplate\": \"Palabra=%{y}<br>Conteo=%{x}\", \"legendgroup\": \"Palabra=im\", \"marker\": {\"color\": \"#00cc96\"}, \"name\": \"Palabra=im\", \"offsetgroup\": \"Palabra=im\", \"orientation\": \"h\", \"showlegend\": true, \"textposition\": \"auto\", \"type\": \"bar\", \"x\": [292], \"xaxis\": \"x\", \"y\": [\"im\"], \"yaxis\": \"y\"}, {\"alignmentgroup\": \"True\", \"hoverlabel\": {\"namelength\": 0}, \"hovertemplate\": \"Palabra=%{y}<br>Conteo=%{x}\", \"legendgroup\": \"Palabra=new\", \"marker\": {\"color\": \"#ab63fa\"}, \"name\": \"Palabra=new\", \"offsetgroup\": \"Palabra=new\", \"orientation\": \"h\", \"showlegend\": true, \"textposition\": \"auto\", \"type\": \"bar\", \"x\": [224], \"xaxis\": \"x\", \"y\": [\"new\"], \"yaxis\": \"y\"}, {\"alignmentgroup\": \"True\", \"hoverlabel\": {\"namelength\": 0}, \"hovertemplate\": \"Palabra=%{y}<br>Conteo=%{x}\", \"legendgroup\": \"Palabra=people\", \"marker\": {\"color\": \"#FFA15A\"}, \"name\": \"Palabra=people\", \"offsetgroup\": \"Palabra=people\", \"orientation\": \"h\", \"showlegend\": true, \"textposition\": \"auto\", \"type\": \"bar\", \"x\": [193], \"xaxis\": \"x\", \"y\": [\"people\"], \"yaxis\": \"y\"}, {\"alignmentgroup\": \"True\", \"hoverlabel\": {\"namelength\": 0}, \"hovertemplate\": \"Palabra=%{y}<br>Conteo=%{x}\", \"legendgroup\": \"Palabra=dont\", \"marker\": {\"color\": \"#19d3f3\"}, \"name\": \"Palabra=dont\", \"offsetgroup\": \"Palabra=dont\", \"orientation\": \"h\", \"showlegend\": true, \"textposition\": \"auto\", \"type\": \"bar\", \"x\": [189], \"xaxis\": \"x\", \"y\": [\"dont\"], \"yaxis\": \"y\"}, {\"alignmentgroup\": \"True\", \"hoverlabel\": {\"namelength\": 0}, \"hovertemplate\": \"Palabra=%{y}<br>Conteo=%{x}\", \"legendgroup\": \"Palabra=news\", \"marker\": {\"color\": \"#FF6692\"}, \"name\": \"Palabra=news\", \"offsetgroup\": \"Palabra=news\", \"orientation\": \"h\", \"showlegend\": true, \"textposition\": \"auto\", \"type\": \"bar\", \"x\": [184], \"xaxis\": \"x\", \"y\": [\"news\"], \"yaxis\": \"y\"}, {\"alignmentgroup\": \"True\", \"hoverlabel\": {\"namelength\": 0}, \"hovertemplate\": \"Palabra=%{y}<br>Conteo=%{x}\", \"legendgroup\": \"Palabra=video\", \"marker\": {\"color\": \"#B6E880\"}, \"name\": \"Palabra=video\", \"offsetgroup\": \"Palabra=video\", \"orientation\": \"h\", \"showlegend\": true, \"textposition\": \"auto\", \"type\": \"bar\", \"x\": [164], \"xaxis\": \"x\", \"y\": [\"video\"], \"yaxis\": \"y\"}, {\"alignmentgroup\": \"True\", \"hoverlabel\": {\"namelength\": 0}, \"hovertemplate\": \"Palabra=%{y}<br>Conteo=%{x}\", \"legendgroup\": \"Palabra=2\", \"marker\": {\"color\": \"#FF97FF\"}, \"name\": \"Palabra=2\", \"offsetgroup\": \"Palabra=2\", \"orientation\": \"h\", \"showlegend\": true, \"textposition\": \"auto\", \"type\": \"bar\", \"x\": [158], \"xaxis\": \"x\", \"y\": [\"2\"], \"yaxis\": \"y\"}, {\"alignmentgroup\": \"True\", \"hoverlabel\": {\"namelength\": 0}, \"hovertemplate\": \"Palabra=%{y}<br>Conteo=%{x}\", \"legendgroup\": \"Palabra=emergency\", \"marker\": {\"color\": \"#FECB52\"}, \"name\": \"Palabra=emergency\", \"offsetgroup\": \"Palabra=emergency\", \"orientation\": \"h\", \"showlegend\": true, \"textposition\": \"auto\", \"type\": \"bar\", \"x\": [155], \"xaxis\": \"x\", \"y\": [\"emergency\"], \"yaxis\": \"y\"}, {\"alignmentgroup\": \"True\", \"hoverlabel\": {\"namelength\": 0}, \"hovertemplate\": \"Palabra=%{y}<br>Conteo=%{x}\", \"legendgroup\": \"Palabra=disaster\", \"marker\": {\"color\": \"#636efa\"}, \"name\": \"Palabra=disaster\", \"offsetgroup\": \"Palabra=disaster\", \"orientation\": \"h\", \"showlegend\": true, \"textposition\": \"auto\", \"type\": \"bar\", \"x\": [149], \"xaxis\": \"x\", \"y\": [\"disaster\"], \"yaxis\": \"y\"}, {\"alignmentgroup\": \"True\", \"hoverlabel\": {\"namelength\": 0}, \"hovertemplate\": \"Palabra=%{y}<br>Conteo=%{x}\", \"legendgroup\": \"Palabra=police\", \"marker\": {\"color\": \"#EF553B\"}, \"name\": \"Palabra=police\", \"offsetgroup\": \"Palabra=police\", \"orientation\": \"h\", \"showlegend\": true, \"textposition\": \"auto\", \"type\": \"bar\", \"x\": [137], \"xaxis\": \"x\", \"y\": [\"police\"], \"yaxis\": \"y\"}, {\"alignmentgroup\": \"True\", \"hoverlabel\": {\"namelength\": 0}, \"hovertemplate\": \"Palabra=%{y}<br>Conteo=%{x}\", \"legendgroup\": \"Palabra=body\", \"marker\": {\"color\": \"#00cc96\"}, \"name\": \"Palabra=body\", \"offsetgroup\": \"Palabra=body\", \"orientation\": \"h\", \"showlegend\": true, \"textposition\": \"auto\", \"type\": \"bar\", \"x\": [124], \"xaxis\": \"x\", \"y\": [\"body\"], \"yaxis\": \"y\"}, {\"alignmentgroup\": \"True\", \"hoverlabel\": {\"namelength\": 0}, \"hovertemplate\": \"Palabra=%{y}<br>Conteo=%{x}\", \"legendgroup\": \"Palabra=burning\", \"marker\": {\"color\": \"#ab63fa\"}, \"name\": \"Palabra=burning\", \"offsetgroup\": \"Palabra=burning\", \"orientation\": \"h\", \"showlegend\": true, \"textposition\": \"auto\", \"type\": \"bar\", \"x\": [120], \"xaxis\": \"x\", \"y\": [\"burning\"], \"yaxis\": \"y\"}, {\"alignmentgroup\": \"True\", \"hoverlabel\": {\"namelength\": 0}, \"hovertemplate\": \"Palabra=%{y}<br>Conteo=%{x}\", \"legendgroup\": \"Palabra=crash\", \"marker\": {\"color\": \"#FFA15A\"}, \"name\": \"Palabra=crash\", \"offsetgroup\": \"Palabra=crash\", \"orientation\": \"h\", \"showlegend\": true, \"textposition\": \"auto\", \"type\": \"bar\", \"x\": [116], \"xaxis\": \"x\", \"y\": [\"crash\"], \"yaxis\": \"y\"}, {\"alignmentgroup\": \"True\", \"hoverlabel\": {\"namelength\": 0}, \"hovertemplate\": \"Palabra=%{y}<br>Conteo=%{x}\", \"legendgroup\": \"Palabra=storm\", \"marker\": {\"color\": \"#19d3f3\"}, \"name\": \"Palabra=storm\", \"offsetgroup\": \"Palabra=storm\", \"orientation\": \"h\", \"showlegend\": true, \"textposition\": \"auto\", \"type\": \"bar\", \"x\": [115], \"xaxis\": \"x\", \"y\": [\"storm\"], \"yaxis\": \"y\"}, {\"alignmentgroup\": \"True\", \"hoverlabel\": {\"namelength\": 0}, \"hovertemplate\": \"Palabra=%{y}<br>Conteo=%{x}\", \"legendgroup\": \"Palabra=suicide\", \"marker\": {\"color\": \"#FF6692\"}, \"name\": \"Palabra=suicide\", \"offsetgroup\": \"Palabra=suicide\", \"orientation\": \"h\", \"showlegend\": true, \"textposition\": \"auto\", \"type\": \"bar\", \"x\": [113], \"xaxis\": \"x\", \"y\": [\"suicide\"], \"yaxis\": \"y\"}, {\"alignmentgroup\": \"True\", \"hoverlabel\": {\"namelength\": 0}, \"hovertemplate\": \"Palabra=%{y}<br>Conteo=%{x}\", \"legendgroup\": \"Palabra=time\", \"marker\": {\"color\": \"#B6E880\"}, \"name\": \"Palabra=time\", \"offsetgroup\": \"Palabra=time\", \"orientation\": \"h\", \"showlegend\": true, \"textposition\": \"auto\", \"type\": \"bar\", \"x\": [112], \"xaxis\": \"x\", \"y\": [\"time\"], \"yaxis\": \"y\"}, {\"alignmentgroup\": \"True\", \"hoverlabel\": {\"namelength\": 0}, \"hovertemplate\": \"Palabra=%{y}<br>Conteo=%{x}\", \"legendgroup\": \"Palabra=california\", \"marker\": {\"color\": \"#FF97FF\"}, \"name\": \"Palabra=california\", \"offsetgroup\": \"Palabra=california\", \"orientation\": \"h\", \"showlegend\": true, \"textposition\": \"auto\", \"type\": \"bar\", \"x\": [112], \"xaxis\": \"x\", \"y\": [\"california\"], \"yaxis\": \"y\"}, {\"alignmentgroup\": \"True\", \"hoverlabel\": {\"namelength\": 0}, \"hovertemplate\": \"Palabra=%{y}<br>Conteo=%{x}\", \"legendgroup\": \"Palabra=got\", \"marker\": {\"color\": \"#FECB52\"}, \"name\": \"Palabra=got\", \"offsetgroup\": \"Palabra=got\", \"orientation\": \"h\", \"showlegend\": true, \"textposition\": \"auto\", \"type\": \"bar\", \"x\": [111], \"xaxis\": \"x\", \"y\": [\"got\"], \"yaxis\": \"y\"}],\n",
              "                        {\"barmode\": \"relative\", \"height\": 500, \"legend\": {\"tracegroupgap\": 0}, \"template\": {\"data\": {\"bar\": [{\"error_x\": {\"color\": \"#2a3f5f\"}, \"error_y\": {\"color\": \"#2a3f5f\"}, \"marker\": {\"line\": {\"color\": \"#E5ECF6\", \"width\": 0.5}}, \"type\": \"bar\"}], \"barpolar\": [{\"marker\": {\"line\": {\"color\": \"#E5ECF6\", \"width\": 0.5}}, \"type\": \"barpolar\"}], \"carpet\": [{\"aaxis\": {\"endlinecolor\": \"#2a3f5f\", \"gridcolor\": \"white\", \"linecolor\": \"white\", \"minorgridcolor\": \"white\", \"startlinecolor\": \"#2a3f5f\"}, \"baxis\": {\"endlinecolor\": \"#2a3f5f\", \"gridcolor\": \"white\", \"linecolor\": \"white\", \"minorgridcolor\": \"white\", \"startlinecolor\": \"#2a3f5f\"}, \"type\": \"carpet\"}], \"choropleth\": [{\"colorbar\": {\"outlinewidth\": 0, \"ticks\": \"\"}, \"type\": \"choropleth\"}], \"contour\": [{\"colorbar\": {\"outlinewidth\": 0, \"ticks\": \"\"}, \"colorscale\": [[0.0, \"#0d0887\"], [0.1111111111111111, \"#46039f\"], [0.2222222222222222, \"#7201a8\"], [0.3333333333333333, \"#9c179e\"], [0.4444444444444444, \"#bd3786\"], [0.5555555555555556, \"#d8576b\"], [0.6666666666666666, \"#ed7953\"], [0.7777777777777778, \"#fb9f3a\"], [0.8888888888888888, \"#fdca26\"], [1.0, \"#f0f921\"]], \"type\": \"contour\"}], \"contourcarpet\": [{\"colorbar\": {\"outlinewidth\": 0, \"ticks\": \"\"}, \"type\": \"contourcarpet\"}], \"heatmap\": [{\"colorbar\": {\"outlinewidth\": 0, \"ticks\": \"\"}, \"colorscale\": [[0.0, \"#0d0887\"], [0.1111111111111111, \"#46039f\"], [0.2222222222222222, \"#7201a8\"], [0.3333333333333333, \"#9c179e\"], [0.4444444444444444, \"#bd3786\"], [0.5555555555555556, \"#d8576b\"], [0.6666666666666666, \"#ed7953\"], [0.7777777777777778, \"#fb9f3a\"], [0.8888888888888888, \"#fdca26\"], [1.0, \"#f0f921\"]], \"type\": \"heatmap\"}], \"heatmapgl\": [{\"colorbar\": {\"outlinewidth\": 0, \"ticks\": \"\"}, \"colorscale\": [[0.0, \"#0d0887\"], [0.1111111111111111, \"#46039f\"], [0.2222222222222222, \"#7201a8\"], [0.3333333333333333, \"#9c179e\"], [0.4444444444444444, \"#bd3786\"], [0.5555555555555556, \"#d8576b\"], [0.6666666666666666, \"#ed7953\"], [0.7777777777777778, \"#fb9f3a\"], [0.8888888888888888, \"#fdca26\"], [1.0, \"#f0f921\"]], \"type\": \"heatmapgl\"}], \"histogram\": [{\"marker\": {\"colorbar\": {\"outlinewidth\": 0, \"ticks\": \"\"}}, \"type\": \"histogram\"}], \"histogram2d\": [{\"colorbar\": {\"outlinewidth\": 0, \"ticks\": \"\"}, \"colorscale\": [[0.0, \"#0d0887\"], [0.1111111111111111, \"#46039f\"], [0.2222222222222222, \"#7201a8\"], [0.3333333333333333, \"#9c179e\"], [0.4444444444444444, \"#bd3786\"], [0.5555555555555556, \"#d8576b\"], [0.6666666666666666, \"#ed7953\"], [0.7777777777777778, \"#fb9f3a\"], [0.8888888888888888, \"#fdca26\"], [1.0, \"#f0f921\"]], \"type\": \"histogram2d\"}], \"histogram2dcontour\": [{\"colorbar\": {\"outlinewidth\": 0, \"ticks\": \"\"}, \"colorscale\": [[0.0, \"#0d0887\"], [0.1111111111111111, \"#46039f\"], [0.2222222222222222, \"#7201a8\"], [0.3333333333333333, \"#9c179e\"], [0.4444444444444444, \"#bd3786\"], [0.5555555555555556, \"#d8576b\"], [0.6666666666666666, \"#ed7953\"], [0.7777777777777778, \"#fb9f3a\"], [0.8888888888888888, \"#fdca26\"], [1.0, \"#f0f921\"]], \"type\": \"histogram2dcontour\"}], \"mesh3d\": [{\"colorbar\": {\"outlinewidth\": 0, \"ticks\": \"\"}, \"type\": \"mesh3d\"}], \"parcoords\": [{\"line\": {\"colorbar\": {\"outlinewidth\": 0, \"ticks\": \"\"}}, \"type\": \"parcoords\"}], \"pie\": [{\"automargin\": true, \"type\": \"pie\"}], \"scatter\": [{\"marker\": {\"colorbar\": {\"outlinewidth\": 0, \"ticks\": \"\"}}, \"type\": \"scatter\"}], \"scatter3d\": [{\"line\": {\"colorbar\": {\"outlinewidth\": 0, \"ticks\": \"\"}}, \"marker\": {\"colorbar\": {\"outlinewidth\": 0, \"ticks\": \"\"}}, \"type\": \"scatter3d\"}], \"scattercarpet\": [{\"marker\": {\"colorbar\": {\"outlinewidth\": 0, \"ticks\": \"\"}}, \"type\": \"scattercarpet\"}], \"scattergeo\": [{\"marker\": {\"colorbar\": {\"outlinewidth\": 0, \"ticks\": \"\"}}, \"type\": \"scattergeo\"}], \"scattergl\": [{\"marker\": {\"colorbar\": {\"outlinewidth\": 0, \"ticks\": \"\"}}, \"type\": \"scattergl\"}], \"scattermapbox\": [{\"marker\": {\"colorbar\": {\"outlinewidth\": 0, \"ticks\": \"\"}}, \"type\": \"scattermapbox\"}], \"scatterpolar\": [{\"marker\": {\"colorbar\": {\"outlinewidth\": 0, \"ticks\": \"\"}}, \"type\": \"scatterpolar\"}], \"scatterpolargl\": [{\"marker\": {\"colorbar\": {\"outlinewidth\": 0, \"ticks\": \"\"}}, \"type\": \"scatterpolargl\"}], \"scatterternary\": [{\"marker\": {\"colorbar\": {\"outlinewidth\": 0, \"ticks\": \"\"}}, \"type\": \"scatterternary\"}], \"surface\": [{\"colorbar\": {\"outlinewidth\": 0, \"ticks\": \"\"}, \"colorscale\": [[0.0, \"#0d0887\"], [0.1111111111111111, \"#46039f\"], [0.2222222222222222, \"#7201a8\"], [0.3333333333333333, \"#9c179e\"], [0.4444444444444444, \"#bd3786\"], [0.5555555555555556, \"#d8576b\"], [0.6666666666666666, \"#ed7953\"], [0.7777777777777778, \"#fb9f3a\"], [0.8888888888888888, \"#fdca26\"], [1.0, \"#f0f921\"]], \"type\": \"surface\"}], \"table\": [{\"cells\": {\"fill\": {\"color\": \"#EBF0F8\"}, \"line\": {\"color\": \"white\"}}, \"header\": {\"fill\": {\"color\": \"#C8D4E3\"}, \"line\": {\"color\": \"white\"}}, \"type\": \"table\"}]}, \"layout\": {\"annotationdefaults\": {\"arrowcolor\": \"#2a3f5f\", \"arrowhead\": 0, \"arrowwidth\": 1}, \"coloraxis\": {\"colorbar\": {\"outlinewidth\": 0, \"ticks\": \"\"}}, \"colorscale\": {\"diverging\": [[0, \"#8e0152\"], [0.1, \"#c51b7d\"], [0.2, \"#de77ae\"], [0.3, \"#f1b6da\"], [0.4, \"#fde0ef\"], [0.5, \"#f7f7f7\"], [0.6, \"#e6f5d0\"], [0.7, \"#b8e186\"], [0.8, \"#7fbc41\"], [0.9, \"#4d9221\"], [1, \"#276419\"]], \"sequential\": [[0.0, \"#0d0887\"], [0.1111111111111111, \"#46039f\"], [0.2222222222222222, \"#7201a8\"], [0.3333333333333333, \"#9c179e\"], [0.4444444444444444, \"#bd3786\"], [0.5555555555555556, \"#d8576b\"], [0.6666666666666666, \"#ed7953\"], [0.7777777777777778, \"#fb9f3a\"], [0.8888888888888888, \"#fdca26\"], [1.0, \"#f0f921\"]], \"sequentialminus\": [[0.0, \"#0d0887\"], [0.1111111111111111, \"#46039f\"], [0.2222222222222222, \"#7201a8\"], [0.3333333333333333, \"#9c179e\"], [0.4444444444444444, \"#bd3786\"], [0.5555555555555556, \"#d8576b\"], [0.6666666666666666, \"#ed7953\"], [0.7777777777777778, \"#fb9f3a\"], [0.8888888888888888, \"#fdca26\"], [1.0, \"#f0f921\"]]}, \"colorway\": [\"#636efa\", \"#EF553B\", \"#00cc96\", \"#ab63fa\", \"#FFA15A\", \"#19d3f3\", \"#FF6692\", \"#B6E880\", \"#FF97FF\", \"#FECB52\"], \"font\": {\"color\": \"#2a3f5f\"}, \"geo\": {\"bgcolor\": \"white\", \"lakecolor\": \"white\", \"landcolor\": \"#E5ECF6\", \"showlakes\": true, \"showland\": true, \"subunitcolor\": \"white\"}, \"hoverlabel\": {\"align\": \"left\"}, \"hovermode\": \"closest\", \"mapbox\": {\"style\": \"light\"}, \"paper_bgcolor\": \"white\", \"plot_bgcolor\": \"#E5ECF6\", \"polar\": {\"angularaxis\": {\"gridcolor\": \"white\", \"linecolor\": \"white\", \"ticks\": \"\"}, \"bgcolor\": \"#E5ECF6\", \"radialaxis\": {\"gridcolor\": \"white\", \"linecolor\": \"white\", \"ticks\": \"\"}}, \"scene\": {\"xaxis\": {\"backgroundcolor\": \"#E5ECF6\", \"gridcolor\": \"white\", \"gridwidth\": 2, \"linecolor\": \"white\", \"showbackground\": true, \"ticks\": \"\", \"zerolinecolor\": \"white\"}, \"yaxis\": {\"backgroundcolor\": \"#E5ECF6\", \"gridcolor\": \"white\", \"gridwidth\": 2, \"linecolor\": \"white\", \"showbackground\": true, \"ticks\": \"\", \"zerolinecolor\": \"white\"}, \"zaxis\": {\"backgroundcolor\": \"#E5ECF6\", \"gridcolor\": \"white\", \"gridwidth\": 2, \"linecolor\": \"white\", \"showbackground\": true, \"ticks\": \"\", \"zerolinecolor\": \"white\"}}, \"shapedefaults\": {\"line\": {\"color\": \"#2a3f5f\"}}, \"ternary\": {\"aaxis\": {\"gridcolor\": \"white\", \"linecolor\": \"white\", \"ticks\": \"\"}, \"baxis\": {\"gridcolor\": \"white\", \"linecolor\": \"white\", \"ticks\": \"\"}, \"bgcolor\": \"#E5ECF6\", \"caxis\": {\"gridcolor\": \"white\", \"linecolor\": \"white\", \"ticks\": \"\"}}, \"title\": {\"x\": 0.05}, \"xaxis\": {\"automargin\": true, \"gridcolor\": \"white\", \"linecolor\": \"white\", \"ticks\": \"\", \"title\": {\"standoff\": 15}, \"zerolinecolor\": \"white\", \"zerolinewidth\": 2}, \"yaxis\": {\"automargin\": true, \"gridcolor\": \"white\", \"linecolor\": \"white\", \"ticks\": \"\", \"title\": {\"standoff\": 15}, \"zerolinecolor\": \"white\", \"zerolinewidth\": 2}}}, \"title\": {\"text\": \"Palabras m\\u00e1s comunes en los tweets\"}, \"width\": 700, \"xaxis\": {\"anchor\": \"y\", \"domain\": [0.0, 1.0], \"title\": {\"text\": \"Conteo\"}}, \"yaxis\": {\"anchor\": \"x\", \"categoryarray\": [\"got\", \"california\", \"time\", \"suicide\", \"storm\", \"crash\", \"burning\", \"body\", \"police\", \"disaster\", \"emergency\", \"2\", \"video\", \"news\", \"dont\", \"people\", \"new\", \"im\", \"amp\", \"like\"], \"categoryorder\": \"array\", \"domain\": [0.0, 1.0], \"title\": {\"text\": \"Palabra\"}}},\n",
              "                        {\"responsive\": true}\n",
              "                    ).then(function(){\n",
              "                            \n",
              "var gd = document.getElementById('068098f3-5c69-40fd-8ab4-09cd113abda4');\n",
              "var x = new MutationObserver(function (mutations, observer) {{\n",
              "        var display = window.getComputedStyle(gd).display;\n",
              "        if (!display || display === 'none') {{\n",
              "            console.log([gd, 'removed!']);\n",
              "            Plotly.purge(gd);\n",
              "            observer.disconnect();\n",
              "        }}\n",
              "}});\n",
              "\n",
              "// Listen for the removal of the full notebook cells\n",
              "var notebookContainer = gd.closest('#notebook-container');\n",
              "if (notebookContainer) {{\n",
              "    x.observe(notebookContainer, {childList: true});\n",
              "}}\n",
              "\n",
              "// Listen for the clearing of the current output cell\n",
              "var outputEl = gd.closest('.output');\n",
              "if (outputEl) {{\n",
              "    x.observe(outputEl, {childList: true});\n",
              "}}\n",
              "\n",
              "                        })\n",
              "                };\n",
              "                \n",
              "            </script>\n",
              "        </div>\n",
              "</body>\n",
              "</html>"
            ]
          },
          "metadata": {
            "tags": []
          }
        }
      ]
    },
    {
      "cell_type": "markdown",
      "metadata": {
        "id": "-8buGnkmPEJj"
      },
      "source": [
        "Ahora hay que comparar las palabras más comunes en los tweets de desastres reales contra los de desastres falsos"
      ]
    },
    {
      "cell_type": "code",
      "metadata": {
        "colab": {
          "base_uri": "https://localhost:8080/",
          "height": 438
        },
        "id": "KbpUwcIWDV1d",
        "outputId": "6ec581a7-366f-4a9f-df5b-ea06cb3adb99"
      },
      "source": [
        "tweets_reales = tweets_train[tweets_train['target']==1]\n",
        "tweets_falsos = tweets_train[tweets_train['target']==0]\n",
        "\n",
        "tweets_por_palabras = tweets_reales['text'].apply(lambda x:str(x).split())\n",
        "top = Counter([item for sublist in tweets_por_palabras for item in sublist])\n",
        "temp_positive = pd.DataFrame(top.most_common(20))\n",
        "temp_positive.columns = ['Palabras en desastres reales','Conteo']\n",
        "temp_positive.style.background_gradient(cmap='Reds')\n"
      ],
      "execution_count": 718,
      "outputs": [
        {
          "output_type": "execute_result",
          "data": {
            "text/html": [
              "<style  type=\"text/css\" >\n",
              "#T_5c6a5d00_3906_11eb_a995_0242ac1c0002row0_col1{\n",
              "            background-color:  #67000d;\n",
              "            color:  #f1f1f1;\n",
              "        }#T_5c6a5d00_3906_11eb_a995_0242ac1c0002row1_col1{\n",
              "            background-color:  #ca181d;\n",
              "            color:  #f1f1f1;\n",
              "        }#T_5c6a5d00_3906_11eb_a995_0242ac1c0002row2_col1{\n",
              "            background-color:  #f03f2e;\n",
              "            color:  #f1f1f1;\n",
              "        }#T_5c6a5d00_3906_11eb_a995_0242ac1c0002row3_col1,#T_5c6a5d00_3906_11eb_a995_0242ac1c0002row4_col1{\n",
              "            background-color:  #f14432;\n",
              "            color:  #f1f1f1;\n",
              "        }#T_5c6a5d00_3906_11eb_a995_0242ac1c0002row5_col1{\n",
              "            background-color:  #f4503a;\n",
              "            color:  #000000;\n",
              "        }#T_5c6a5d00_3906_11eb_a995_0242ac1c0002row6_col1{\n",
              "            background-color:  #f85d42;\n",
              "            color:  #000000;\n",
              "        }#T_5c6a5d00_3906_11eb_a995_0242ac1c0002row7_col1,#T_5c6a5d00_3906_11eb_a995_0242ac1c0002row8_col1{\n",
              "            background-color:  #fc9576;\n",
              "            color:  #000000;\n",
              "        }#T_5c6a5d00_3906_11eb_a995_0242ac1c0002row9_col1{\n",
              "            background-color:  #fcbba1;\n",
              "            color:  #000000;\n",
              "        }#T_5c6a5d00_3906_11eb_a995_0242ac1c0002row10_col1,#T_5c6a5d00_3906_11eb_a995_0242ac1c0002row11_col1{\n",
              "            background-color:  #fdc5ae;\n",
              "            color:  #000000;\n",
              "        }#T_5c6a5d00_3906_11eb_a995_0242ac1c0002row12_col1,#T_5c6a5d00_3906_11eb_a995_0242ac1c0002row13_col1{\n",
              "            background-color:  #fdd0bc;\n",
              "            color:  #000000;\n",
              "        }#T_5c6a5d00_3906_11eb_a995_0242ac1c0002row14_col1{\n",
              "            background-color:  #fed9c9;\n",
              "            color:  #000000;\n",
              "        }#T_5c6a5d00_3906_11eb_a995_0242ac1c0002row15_col1,#T_5c6a5d00_3906_11eb_a995_0242ac1c0002row16_col1{\n",
              "            background-color:  #feeae0;\n",
              "            color:  #000000;\n",
              "        }#T_5c6a5d00_3906_11eb_a995_0242ac1c0002row17_col1{\n",
              "            background-color:  #ffede5;\n",
              "            color:  #000000;\n",
              "        }#T_5c6a5d00_3906_11eb_a995_0242ac1c0002row18_col1{\n",
              "            background-color:  #fff0e8;\n",
              "            color:  #000000;\n",
              "        }#T_5c6a5d00_3906_11eb_a995_0242ac1c0002row19_col1{\n",
              "            background-color:  #fff5f0;\n",
              "            color:  #000000;\n",
              "        }</style><table id=\"T_5c6a5d00_3906_11eb_a995_0242ac1c0002\" ><thead>    <tr>        <th class=\"blank level0\" ></th>        <th class=\"col_heading level0 col0\" >Palabras en desastres reales</th>        <th class=\"col_heading level0 col1\" >Conteo</th>    </tr></thead><tbody>\n",
              "                <tr>\n",
              "                        <th id=\"T_5c6a5d00_3906_11eb_a995_0242ac1c0002level0_row0\" class=\"row_heading level0 row0\" >0</th>\n",
              "                        <td id=\"T_5c6a5d00_3906_11eb_a995_0242ac1c0002row0_col0\" class=\"data row0 col0\" >news</td>\n",
              "                        <td id=\"T_5c6a5d00_3906_11eb_a995_0242ac1c0002row0_col1\" class=\"data row0 col1\" >130</td>\n",
              "            </tr>\n",
              "            <tr>\n",
              "                        <th id=\"T_5c6a5d00_3906_11eb_a995_0242ac1c0002level0_row1\" class=\"row_heading level0 row1\" >1</th>\n",
              "                        <td id=\"T_5c6a5d00_3906_11eb_a995_0242ac1c0002row1_col0\" class=\"data row1 col0\" >disaster</td>\n",
              "                        <td id=\"T_5c6a5d00_3906_11eb_a995_0242ac1c0002row1_col1\" class=\"data row1 col1\" >115</td>\n",
              "            </tr>\n",
              "            <tr>\n",
              "                        <th id=\"T_5c6a5d00_3906_11eb_a995_0242ac1c0002level0_row2\" class=\"row_heading level0 row2\" >2</th>\n",
              "                        <td id=\"T_5c6a5d00_3906_11eb_a995_0242ac1c0002row2_col0\" class=\"data row2 col0\" >suicide</td>\n",
              "                        <td id=\"T_5c6a5d00_3906_11eb_a995_0242ac1c0002row2_col1\" class=\"data row2 col1\" >107</td>\n",
              "            </tr>\n",
              "            <tr>\n",
              "                        <th id=\"T_5c6a5d00_3906_11eb_a995_0242ac1c0002level0_row3\" class=\"row_heading level0 row3\" >3</th>\n",
              "                        <td id=\"T_5c6a5d00_3906_11eb_a995_0242ac1c0002row3_col0\" class=\"data row3 col0\" >california</td>\n",
              "                        <td id=\"T_5c6a5d00_3906_11eb_a995_0242ac1c0002row3_col1\" class=\"data row3 col1\" >106</td>\n",
              "            </tr>\n",
              "            <tr>\n",
              "                        <th id=\"T_5c6a5d00_3906_11eb_a995_0242ac1c0002level0_row4\" class=\"row_heading level0 row4\" >4</th>\n",
              "                        <td id=\"T_5c6a5d00_3906_11eb_a995_0242ac1c0002row4_col0\" class=\"data row4 col0\" >amp</td>\n",
              "                        <td id=\"T_5c6a5d00_3906_11eb_a995_0242ac1c0002row4_col1\" class=\"data row4 col1\" >106</td>\n",
              "            </tr>\n",
              "            <tr>\n",
              "                        <th id=\"T_5c6a5d00_3906_11eb_a995_0242ac1c0002level0_row5\" class=\"row_heading level0 row5\" >5</th>\n",
              "                        <td id=\"T_5c6a5d00_3906_11eb_a995_0242ac1c0002row5_col0\" class=\"data row5 col0\" >police</td>\n",
              "                        <td id=\"T_5c6a5d00_3906_11eb_a995_0242ac1c0002row5_col1\" class=\"data row5 col1\" >104</td>\n",
              "            </tr>\n",
              "            <tr>\n",
              "                        <th id=\"T_5c6a5d00_3906_11eb_a995_0242ac1c0002level0_row6\" class=\"row_heading level0 row6\" >6</th>\n",
              "                        <td id=\"T_5c6a5d00_3906_11eb_a995_0242ac1c0002row6_col0\" class=\"data row6 col0\" >people</td>\n",
              "                        <td id=\"T_5c6a5d00_3906_11eb_a995_0242ac1c0002row6_col1\" class=\"data row6 col1\" >102</td>\n",
              "            </tr>\n",
              "            <tr>\n",
              "                        <th id=\"T_5c6a5d00_3906_11eb_a995_0242ac1c0002level0_row7\" class=\"row_heading level0 row7\" >7</th>\n",
              "                        <td id=\"T_5c6a5d00_3906_11eb_a995_0242ac1c0002row7_col0\" class=\"data row7 col0\" >killed</td>\n",
              "                        <td id=\"T_5c6a5d00_3906_11eb_a995_0242ac1c0002row7_col1\" class=\"data row7 col1\" >92</td>\n",
              "            </tr>\n",
              "            <tr>\n",
              "                        <th id=\"T_5c6a5d00_3906_11eb_a995_0242ac1c0002level0_row8\" class=\"row_heading level0 row8\" >8</th>\n",
              "                        <td id=\"T_5c6a5d00_3906_11eb_a995_0242ac1c0002row8_col0\" class=\"data row8 col0\" >like</td>\n",
              "                        <td id=\"T_5c6a5d00_3906_11eb_a995_0242ac1c0002row8_col1\" class=\"data row8 col1\" >92</td>\n",
              "            </tr>\n",
              "            <tr>\n",
              "                        <th id=\"T_5c6a5d00_3906_11eb_a995_0242ac1c0002level0_row9\" class=\"row_heading level0 row9\" >9</th>\n",
              "                        <td id=\"T_5c6a5d00_3906_11eb_a995_0242ac1c0002row9_col0\" class=\"data row9 col0\" >hiroshima</td>\n",
              "                        <td id=\"T_5c6a5d00_3906_11eb_a995_0242ac1c0002row9_col1\" class=\"data row9 col1\" >85</td>\n",
              "            </tr>\n",
              "            <tr>\n",
              "                        <th id=\"T_5c6a5d00_3906_11eb_a995_0242ac1c0002level0_row10\" class=\"row_heading level0 row10\" >10</th>\n",
              "                        <td id=\"T_5c6a5d00_3906_11eb_a995_0242ac1c0002row10_col0\" class=\"data row10 col0\" >fires</td>\n",
              "                        <td id=\"T_5c6a5d00_3906_11eb_a995_0242ac1c0002row10_col1\" class=\"data row10 col1\" >83</td>\n",
              "            </tr>\n",
              "            <tr>\n",
              "                        <th id=\"T_5c6a5d00_3906_11eb_a995_0242ac1c0002level0_row11\" class=\"row_heading level0 row11\" >11</th>\n",
              "                        <td id=\"T_5c6a5d00_3906_11eb_a995_0242ac1c0002row11_col0\" class=\"data row11 col0\" >storm</td>\n",
              "                        <td id=\"T_5c6a5d00_3906_11eb_a995_0242ac1c0002row11_col1\" class=\"data row11 col1\" >83</td>\n",
              "            </tr>\n",
              "            <tr>\n",
              "                        <th id=\"T_5c6a5d00_3906_11eb_a995_0242ac1c0002level0_row12\" class=\"row_heading level0 row12\" >12</th>\n",
              "                        <td id=\"T_5c6a5d00_3906_11eb_a995_0242ac1c0002row12_col0\" class=\"data row12 col0\" >crash</td>\n",
              "                        <td id=\"T_5c6a5d00_3906_11eb_a995_0242ac1c0002row12_col1\" class=\"data row12 col1\" >81</td>\n",
              "            </tr>\n",
              "            <tr>\n",
              "                        <th id=\"T_5c6a5d00_3906_11eb_a995_0242ac1c0002level0_row13\" class=\"row_heading level0 row13\" >13</th>\n",
              "                        <td id=\"T_5c6a5d00_3906_11eb_a995_0242ac1c0002row13_col0\" class=\"data row13 col0\" >families</td>\n",
              "                        <td id=\"T_5c6a5d00_3906_11eb_a995_0242ac1c0002row13_col1\" class=\"data row13 col1\" >81</td>\n",
              "            </tr>\n",
              "            <tr>\n",
              "                        <th id=\"T_5c6a5d00_3906_11eb_a995_0242ac1c0002level0_row14\" class=\"row_heading level0 row14\" >14</th>\n",
              "                        <td id=\"T_5c6a5d00_3906_11eb_a995_0242ac1c0002row14_col0\" class=\"data row14 col0\" >train</td>\n",
              "                        <td id=\"T_5c6a5d00_3906_11eb_a995_0242ac1c0002row14_col1\" class=\"data row14 col1\" >79</td>\n",
              "            </tr>\n",
              "            <tr>\n",
              "                        <th id=\"T_5c6a5d00_3906_11eb_a995_0242ac1c0002level0_row15\" class=\"row_heading level0 row15\" >15</th>\n",
              "                        <td id=\"T_5c6a5d00_3906_11eb_a995_0242ac1c0002row15_col0\" class=\"data row15 col0\" >emergency</td>\n",
              "                        <td id=\"T_5c6a5d00_3906_11eb_a995_0242ac1c0002row15_col1\" class=\"data row15 col1\" >74</td>\n",
              "            </tr>\n",
              "            <tr>\n",
              "                        <th id=\"T_5c6a5d00_3906_11eb_a995_0242ac1c0002level0_row16\" class=\"row_heading level0 row16\" >16</th>\n",
              "                        <td id=\"T_5c6a5d00_3906_11eb_a995_0242ac1c0002row16_col0\" class=\"data row16 col0\" >buildings</td>\n",
              "                        <td id=\"T_5c6a5d00_3906_11eb_a995_0242ac1c0002row16_col1\" class=\"data row16 col1\" >74</td>\n",
              "            </tr>\n",
              "            <tr>\n",
              "                        <th id=\"T_5c6a5d00_3906_11eb_a995_0242ac1c0002level0_row17\" class=\"row_heading level0 row17\" >17</th>\n",
              "                        <td id=\"T_5c6a5d00_3906_11eb_a995_0242ac1c0002row17_col0\" class=\"data row17 col0\" >2</td>\n",
              "                        <td id=\"T_5c6a5d00_3906_11eb_a995_0242ac1c0002row17_col1\" class=\"data row17 col1\" >73</td>\n",
              "            </tr>\n",
              "            <tr>\n",
              "                        <th id=\"T_5c6a5d00_3906_11eb_a995_0242ac1c0002level0_row18\" class=\"row_heading level0 row18\" >18</th>\n",
              "                        <td id=\"T_5c6a5d00_3906_11eb_a995_0242ac1c0002row18_col0\" class=\"data row18 col0\" >bomb</td>\n",
              "                        <td id=\"T_5c6a5d00_3906_11eb_a995_0242ac1c0002row18_col1\" class=\"data row18 col1\" >72</td>\n",
              "            </tr>\n",
              "            <tr>\n",
              "                        <th id=\"T_5c6a5d00_3906_11eb_a995_0242ac1c0002level0_row19\" class=\"row_heading level0 row19\" >19</th>\n",
              "                        <td id=\"T_5c6a5d00_3906_11eb_a995_0242ac1c0002row19_col0\" class=\"data row19 col0\" >nuclear</td>\n",
              "                        <td id=\"T_5c6a5d00_3906_11eb_a995_0242ac1c0002row19_col1\" class=\"data row19 col1\" >70</td>\n",
              "            </tr>\n",
              "    </tbody></table>"
            ],
            "text/plain": [
              "<pandas.io.formats.style.Styler at 0x7fb5e41e7d30>"
            ]
          },
          "metadata": {
            "tags": []
          },
          "execution_count": 718
        }
      ]
    },
    {
      "cell_type": "code",
      "metadata": {
        "colab": {
          "base_uri": "https://localhost:8080/",
          "height": 438
        },
        "id": "TeR9XcBUE32S",
        "outputId": "955ddda9-f366-47a0-9328-2e3bb6f0d7cc"
      },
      "source": [
        "tweets_por_palabras = tweets_falsos['text'].apply(lambda x:str(x).split())\n",
        "top = Counter([item for sublist in tweets_por_palabras for item in sublist])\n",
        "temp_positive = pd.DataFrame(top.most_common(20))\n",
        "temp_positive.columns = ['Palabras en desastres falsos','Conteo']\n",
        "temp_positive.style.background_gradient(cmap='Blues')"
      ],
      "execution_count": 719,
      "outputs": [
        {
          "output_type": "execute_result",
          "data": {
            "text/html": [
              "<style  type=\"text/css\" >\n",
              "#T_5c737386_3906_11eb_a995_0242ac1c0002row0_col1{\n",
              "            background-color:  #08306b;\n",
              "            color:  #f1f1f1;\n",
              "        }#T_5c737386_3906_11eb_a995_0242ac1c0002row1_col1{\n",
              "            background-color:  #084082;\n",
              "            color:  #f1f1f1;\n",
              "        }#T_5c737386_3906_11eb_a995_0242ac1c0002row2_col1{\n",
              "            background-color:  #3383be;\n",
              "            color:  #000000;\n",
              "        }#T_5c737386_3906_11eb_a995_0242ac1c0002row3_col1{\n",
              "            background-color:  #5aa2cf;\n",
              "            color:  #000000;\n",
              "        }#T_5c737386_3906_11eb_a995_0242ac1c0002row4_col1{\n",
              "            background-color:  #95c5df;\n",
              "            color:  #000000;\n",
              "        }#T_5c737386_3906_11eb_a995_0242ac1c0002row5_col1{\n",
              "            background-color:  #c7dbef;\n",
              "            color:  #000000;\n",
              "        }#T_5c737386_3906_11eb_a995_0242ac1c0002row6_col1{\n",
              "            background-color:  #d7e6f5;\n",
              "            color:  #000000;\n",
              "        }#T_5c737386_3906_11eb_a995_0242ac1c0002row7_col1{\n",
              "            background-color:  #dceaf6;\n",
              "            color:  #000000;\n",
              "        }#T_5c737386_3906_11eb_a995_0242ac1c0002row8_col1,#T_5c737386_3906_11eb_a995_0242ac1c0002row9_col1{\n",
              "            background-color:  #e3eef8;\n",
              "            color:  #000000;\n",
              "        }#T_5c737386_3906_11eb_a995_0242ac1c0002row10_col1,#T_5c737386_3906_11eb_a995_0242ac1c0002row11_col1,#T_5c737386_3906_11eb_a995_0242ac1c0002row12_col1{\n",
              "            background-color:  #e5eff9;\n",
              "            color:  #000000;\n",
              "        }#T_5c737386_3906_11eb_a995_0242ac1c0002row13_col1{\n",
              "            background-color:  #e7f1fa;\n",
              "            color:  #000000;\n",
              "        }#T_5c737386_3906_11eb_a995_0242ac1c0002row14_col1{\n",
              "            background-color:  #edf4fc;\n",
              "            color:  #000000;\n",
              "        }#T_5c737386_3906_11eb_a995_0242ac1c0002row15_col1,#T_5c737386_3906_11eb_a995_0242ac1c0002row16_col1{\n",
              "            background-color:  #eef5fc;\n",
              "            color:  #000000;\n",
              "        }#T_5c737386_3906_11eb_a995_0242ac1c0002row17_col1{\n",
              "            background-color:  #f6faff;\n",
              "            color:  #000000;\n",
              "        }#T_5c737386_3906_11eb_a995_0242ac1c0002row18_col1,#T_5c737386_3906_11eb_a995_0242ac1c0002row19_col1{\n",
              "            background-color:  #f7fbff;\n",
              "            color:  #000000;\n",
              "        }</style><table id=\"T_5c737386_3906_11eb_a995_0242ac1c0002\" ><thead>    <tr>        <th class=\"blank level0\" ></th>        <th class=\"col_heading level0 col0\" >Palabras en desastres falsos</th>        <th class=\"col_heading level0 col1\" >Conteo</th>    </tr></thead><tbody>\n",
              "                <tr>\n",
              "                        <th id=\"T_5c737386_3906_11eb_a995_0242ac1c0002level0_row0\" class=\"row_heading level0 row0\" >0</th>\n",
              "                        <td id=\"T_5c737386_3906_11eb_a995_0242ac1c0002row0_col0\" class=\"data row0 col0\" >like</td>\n",
              "                        <td id=\"T_5c737386_3906_11eb_a995_0242ac1c0002row0_col1\" class=\"data row0 col1\" >251</td>\n",
              "            </tr>\n",
              "            <tr>\n",
              "                        <th id=\"T_5c737386_3906_11eb_a995_0242ac1c0002level0_row1\" class=\"row_heading level0 row1\" >1</th>\n",
              "                        <td id=\"T_5c737386_3906_11eb_a995_0242ac1c0002row1_col0\" class=\"data row1 col0\" >im</td>\n",
              "                        <td id=\"T_5c737386_3906_11eb_a995_0242ac1c0002row1_col1\" class=\"data row1 col1\" >240</td>\n",
              "            </tr>\n",
              "            <tr>\n",
              "                        <th id=\"T_5c737386_3906_11eb_a995_0242ac1c0002level0_row2\" class=\"row_heading level0 row2\" >2</th>\n",
              "                        <td id=\"T_5c737386_3906_11eb_a995_0242ac1c0002row2_col0\" class=\"data row2 col0\" >amp</td>\n",
              "                        <td id=\"T_5c737386_3906_11eb_a995_0242ac1c0002row2_col1\" class=\"data row2 col1\" >192</td>\n",
              "            </tr>\n",
              "            <tr>\n",
              "                        <th id=\"T_5c737386_3906_11eb_a995_0242ac1c0002level0_row3\" class=\"row_heading level0 row3\" >3</th>\n",
              "                        <td id=\"T_5c737386_3906_11eb_a995_0242ac1c0002row3_col0\" class=\"data row3 col0\" >new</td>\n",
              "                        <td id=\"T_5c737386_3906_11eb_a995_0242ac1c0002row3_col1\" class=\"data row3 col1\" >168</td>\n",
              "            </tr>\n",
              "            <tr>\n",
              "                        <th id=\"T_5c737386_3906_11eb_a995_0242ac1c0002level0_row4\" class=\"row_heading level0 row4\" >4</th>\n",
              "                        <td id=\"T_5c737386_3906_11eb_a995_0242ac1c0002row4_col0\" class=\"data row4 col0\" >dont</td>\n",
              "                        <td id=\"T_5c737386_3906_11eb_a995_0242ac1c0002row4_col1\" class=\"data row4 col1\" >139</td>\n",
              "            </tr>\n",
              "            <tr>\n",
              "                        <th id=\"T_5c737386_3906_11eb_a995_0242ac1c0002level0_row5\" class=\"row_heading level0 row5\" >5</th>\n",
              "                        <td id=\"T_5c737386_3906_11eb_a995_0242ac1c0002row5_col0\" class=\"data row5 col0\" >body</td>\n",
              "                        <td id=\"T_5c737386_3906_11eb_a995_0242ac1c0002row5_col1\" class=\"data row5 col1\" >112</td>\n",
              "            </tr>\n",
              "            <tr>\n",
              "                        <th id=\"T_5c737386_3906_11eb_a995_0242ac1c0002level0_row6\" class=\"row_heading level0 row6\" >6</th>\n",
              "                        <td id=\"T_5c737386_3906_11eb_a995_0242ac1c0002row6_col0\" class=\"data row6 col0\" >video</td>\n",
              "                        <td id=\"T_5c737386_3906_11eb_a995_0242ac1c0002row6_col1\" class=\"data row6 col1\" >96</td>\n",
              "            </tr>\n",
              "            <tr>\n",
              "                        <th id=\"T_5c737386_3906_11eb_a995_0242ac1c0002level0_row7\" class=\"row_heading level0 row7\" >7</th>\n",
              "                        <td id=\"T_5c737386_3906_11eb_a995_0242ac1c0002row7_col0\" class=\"data row7 col0\" >people</td>\n",
              "                        <td id=\"T_5c737386_3906_11eb_a995_0242ac1c0002row7_col1\" class=\"data row7 col1\" >91</td>\n",
              "            </tr>\n",
              "            <tr>\n",
              "                        <th id=\"T_5c737386_3906_11eb_a995_0242ac1c0002level0_row8\" class=\"row_heading level0 row8\" >8</th>\n",
              "                        <td id=\"T_5c737386_3906_11eb_a995_0242ac1c0002row8_col0\" class=\"data row8 col0\" >love</td>\n",
              "                        <td id=\"T_5c737386_3906_11eb_a995_0242ac1c0002row8_col1\" class=\"data row8 col1\" >85</td>\n",
              "            </tr>\n",
              "            <tr>\n",
              "                        <th id=\"T_5c737386_3906_11eb_a995_0242ac1c0002level0_row9\" class=\"row_heading level0 row9\" >9</th>\n",
              "                        <td id=\"T_5c737386_3906_11eb_a995_0242ac1c0002row9_col0\" class=\"data row9 col0\" >2</td>\n",
              "                        <td id=\"T_5c737386_3906_11eb_a995_0242ac1c0002row9_col1\" class=\"data row9 col1\" >85</td>\n",
              "            </tr>\n",
              "            <tr>\n",
              "                        <th id=\"T_5c737386_3906_11eb_a995_0242ac1c0002level0_row10\" class=\"row_heading level0 row10\" >10</th>\n",
              "                        <td id=\"T_5c737386_3906_11eb_a995_0242ac1c0002row10_col0\" class=\"data row10 col0\" >time</td>\n",
              "                        <td id=\"T_5c737386_3906_11eb_a995_0242ac1c0002row10_col1\" class=\"data row10 col1\" >83</td>\n",
              "            </tr>\n",
              "            <tr>\n",
              "                        <th id=\"T_5c737386_3906_11eb_a995_0242ac1c0002level0_row11\" class=\"row_heading level0 row11\" >11</th>\n",
              "                        <td id=\"T_5c737386_3906_11eb_a995_0242ac1c0002row11_col0\" class=\"data row11 col0\" >know</td>\n",
              "                        <td id=\"T_5c737386_3906_11eb_a995_0242ac1c0002row11_col1\" class=\"data row11 col1\" >83</td>\n",
              "            </tr>\n",
              "            <tr>\n",
              "                        <th id=\"T_5c737386_3906_11eb_a995_0242ac1c0002level0_row12\" class=\"row_heading level0 row12\" >12</th>\n",
              "                        <td id=\"T_5c737386_3906_11eb_a995_0242ac1c0002row12_col0\" class=\"data row12 col0\" >got</td>\n",
              "                        <td id=\"T_5c737386_3906_11eb_a995_0242ac1c0002row12_col1\" class=\"data row12 col1\" >83</td>\n",
              "            </tr>\n",
              "            <tr>\n",
              "                        <th id=\"T_5c737386_3906_11eb_a995_0242ac1c0002level0_row13\" class=\"row_heading level0 row13\" >13</th>\n",
              "                        <td id=\"T_5c737386_3906_11eb_a995_0242ac1c0002row13_col0\" class=\"data row13 col0\" >emergency</td>\n",
              "                        <td id=\"T_5c737386_3906_11eb_a995_0242ac1c0002row13_col1\" class=\"data row13 col1\" >81</td>\n",
              "            </tr>\n",
              "            <tr>\n",
              "                        <th id=\"T_5c737386_3906_11eb_a995_0242ac1c0002level0_row14\" class=\"row_heading level0 row14\" >14</th>\n",
              "                        <td id=\"T_5c737386_3906_11eb_a995_0242ac1c0002row14_col0\" class=\"data row14 col0\" >youtube</td>\n",
              "                        <td id=\"T_5c737386_3906_11eb_a995_0242ac1c0002row14_col1\" class=\"data row14 col1\" >76</td>\n",
              "            </tr>\n",
              "            <tr>\n",
              "                        <th id=\"T_5c737386_3906_11eb_a995_0242ac1c0002level0_row15\" class=\"row_heading level0 row15\" >15</th>\n",
              "                        <td id=\"T_5c737386_3906_11eb_a995_0242ac1c0002row15_col0\" class=\"data row15 col0\" >going</td>\n",
              "                        <td id=\"T_5c737386_3906_11eb_a995_0242ac1c0002row15_col1\" class=\"data row15 col1\" >75</td>\n",
              "            </tr>\n",
              "            <tr>\n",
              "                        <th id=\"T_5c737386_3906_11eb_a995_0242ac1c0002level0_row16\" class=\"row_heading level0 row16\" >16</th>\n",
              "                        <td id=\"T_5c737386_3906_11eb_a995_0242ac1c0002row16_col0\" class=\"data row16 col0\" >day</td>\n",
              "                        <td id=\"T_5c737386_3906_11eb_a995_0242ac1c0002row16_col1\" class=\"data row16 col1\" >75</td>\n",
              "            </tr>\n",
              "            <tr>\n",
              "                        <th id=\"T_5c737386_3906_11eb_a995_0242ac1c0002level0_row17\" class=\"row_heading level0 row17\" >17</th>\n",
              "                        <td id=\"T_5c737386_3906_11eb_a995_0242ac1c0002row17_col0\" class=\"data row17 col0\" >good</td>\n",
              "                        <td id=\"T_5c737386_3906_11eb_a995_0242ac1c0002row17_col1\" class=\"data row17 col1\" >67</td>\n",
              "            </tr>\n",
              "            <tr>\n",
              "                        <th id=\"T_5c737386_3906_11eb_a995_0242ac1c0002level0_row18\" class=\"row_heading level0 row18\" >18</th>\n",
              "                        <td id=\"T_5c737386_3906_11eb_a995_0242ac1c0002row18_col0\" class=\"data row18 col0\" >want</td>\n",
              "                        <td id=\"T_5c737386_3906_11eb_a995_0242ac1c0002row18_col1\" class=\"data row18 col1\" >66</td>\n",
              "            </tr>\n",
              "            <tr>\n",
              "                        <th id=\"T_5c737386_3906_11eb_a995_0242ac1c0002level0_row19\" class=\"row_heading level0 row19\" >19</th>\n",
              "                        <td id=\"T_5c737386_3906_11eb_a995_0242ac1c0002row19_col0\" class=\"data row19 col0\" >think</td>\n",
              "                        <td id=\"T_5c737386_3906_11eb_a995_0242ac1c0002row19_col1\" class=\"data row19 col1\" >66</td>\n",
              "            </tr>\n",
              "    </tbody></table>"
            ],
            "text/plain": [
              "<pandas.io.formats.style.Styler at 0x7fb5d9b34908>"
            ]
          },
          "metadata": {
            "tags": []
          },
          "execution_count": 719
        }
      ]
    },
    {
      "cell_type": "markdown",
      "metadata": {
        "id": "rUJ3e4qFPkTf"
      },
      "source": [
        "Para usar algún modelo de clasificación, primero necesitamos extraer las características de los textos, vectorizarlos. Para esto utilizamos el vectorizador tfidf, este sirve para determinar que tan relevante es una palabra para un documento en una colección. Consideramos que es mejor opción que solo usar el conteo. "
      ]
    },
    {
      "cell_type": "code",
      "metadata": {
        "id": "7JqCdnTdNEHZ",
        "colab": {
          "base_uri": "https://localhost:8080/"
        },
        "outputId": "c5b852b6-241e-4720-afbc-50e539b1023d"
      },
      "source": [
        "def get_feature_vector(train_fit):\n",
        "    vector = TfidfVectorizer()\n",
        "    vector.fit(train_fit)\n",
        "    return vector\n",
        "tf_vector = get_feature_vector(np.array(tweets_train.iloc[:, 2]).ravel())\n",
        "X = tf_vector.transform(np.array(tweets_train.iloc[:, 2]).ravel())\n",
        "y = np.array(tweets_train.iloc[:, 3]).ravel()\n",
        "X"
      ],
      "execution_count": 720,
      "outputs": [
        {
          "output_type": "execute_result",
          "data": {
            "text/plain": [
              "<7552x17732 sparse matrix of type '<class 'numpy.float64'>'\n",
              "\twith 63488 stored elements in Compressed Sparse Row format>"
            ]
          },
          "metadata": {
            "tags": []
          },
          "execution_count": 720
        }
      ]
    },
    {
      "cell_type": "markdown",
      "metadata": {
        "id": "JtFzsdWHQ4Ct"
      },
      "source": [
        "Ya que tenemos nuestros datos vectorizados, los partimos en los de entrenamiento y los de prueba"
      ]
    },
    {
      "cell_type": "code",
      "metadata": {
        "id": "mgYqu--XQ2xW"
      },
      "source": [
        "X_train, X_test, y_train, y_test = train_test_split(X, y, test_size=0.2, random_state=30)"
      ],
      "execution_count": 721,
      "outputs": []
    },
    {
      "cell_type": "markdown",
      "metadata": {
        "id": "BBaETDhsRTA1"
      },
      "source": [
        "Estamos listos para usar un modelo. Decidimos usar una regresión logística, porque es mejor empezar con un modelo no muy complicado y rápido."
      ]
    },
    {
      "cell_type": "code",
      "metadata": {
        "colab": {
          "base_uri": "https://localhost:8080/"
        },
        "id": "7bKigVvsR4VX",
        "outputId": "5ad4b2c4-835a-459e-8253-4946e0e64b92"
      },
      "source": [
        "LR_model = LogisticRegression()\n",
        "LR_model.fit(X_train, y_train)"
      ],
      "execution_count": 722,
      "outputs": [
        {
          "output_type": "execute_result",
          "data": {
            "text/plain": [
              "LogisticRegression(C=1.0, class_weight=None, dual=False, fit_intercept=True,\n",
              "                   intercept_scaling=1, l1_ratio=None, max_iter=100,\n",
              "                   multi_class='auto', n_jobs=None, penalty='l2',\n",
              "                   random_state=None, solver='lbfgs', tol=0.0001, verbose=0,\n",
              "                   warm_start=False)"
            ]
          },
          "metadata": {
            "tags": []
          },
          "execution_count": 722
        }
      ]
    },
    {
      "cell_type": "markdown",
      "metadata": {
        "id": "HHvVupOtRy5A"
      },
      "source": [
        "Ya quedó entrenado. Ahora a probarlo con el conjunto de pruebas."
      ]
    },
    {
      "cell_type": "code",
      "metadata": {
        "colab": {
          "base_uri": "https://localhost:8080/"
        },
        "id": "UwAjwh09RyEm",
        "outputId": "e0762e4f-854c-488e-ad4e-7f357f46df9d"
      },
      "source": [
        "y_predict_lr = LR_model.predict(X_test)\n",
        "print(accuracy_score(y_test, y_predict_lr))"
      ],
      "execution_count": 723,
      "outputs": [
        {
          "output_type": "stream",
          "text": [
            "0.8060886829913965\n"
          ],
          "name": "stdout"
        }
      ]
    },
    {
      "cell_type": "markdown",
      "metadata": {
        "id": "U7HCN6FIRntz"
      },
      "source": [
        "Obtenemos un puntaje de precisión de 0.8060, está bastante bien, considerando que es una tarea difícil comprender los mensajes de personas en tweets, incluso para otras personas. ¿Podremos mejorarlo? "
      ]
    },
    {
      "cell_type": "markdown",
      "metadata": {
        "id": "T5CqsknpSTAe"
      },
      "source": [
        "Para ver cómo podemos mejorar el modelo, usaremos las curvas de aprendizaje. Aunque en clase las vimos con el error en el eje de las Y, personalmente preferimos verlas con el score, y es así como las utilizaremos."
      ]
    },
    {
      "cell_type": "code",
      "metadata": {
        "id": "28rMglaWsRQG"
      },
      "source": [
        "def plot_learning_curve(estimator, title, X, y, axes=None, ylim=None, cv=None,\n",
        "                        n_jobs=None, train_sizes=np.linspace(.1, 1.0, 5)):\n",
        "    \n",
        "    if axes is None:\n",
        "        _, axes = plt.subplots(1, 3, figsize=(20, 5))\n",
        "\n",
        "    axes[0].set_title(title)\n",
        "    if ylim is not None:\n",
        "        axes[0].set_ylim(*ylim)\n",
        "    axes[0].set_xlabel(\"Training examples\")\n",
        "    axes[0].set_ylabel(\"Score\")\n",
        "\n",
        "    train_sizes, train_scores, test_scores, fit_times, _ = \\\n",
        "        learning_curve(estimator, X, y, cv=cv, n_jobs=n_jobs,\n",
        "                       train_sizes=train_sizes,\n",
        "                       return_times=True)\n",
        "    train_scores_mean = np.mean(train_scores, axis=1)\n",
        "    train_scores_std = np.std(train_scores, axis=1)\n",
        "    test_scores_mean = np.mean(test_scores, axis=1)\n",
        "    test_scores_std = np.std(test_scores, axis=1)\n",
        "    fit_times_mean = np.mean(fit_times, axis=1)\n",
        "    fit_times_std = np.std(fit_times, axis=1)\n",
        "\n",
        "    # Plot learning curve\n",
        "    axes[0].grid()\n",
        "    axes[0].fill_between(train_sizes, train_scores_mean - train_scores_std,\n",
        "                         train_scores_mean + train_scores_std, alpha=0.1,\n",
        "                         color=\"r\")\n",
        "    axes[0].fill_between(train_sizes, test_scores_mean - test_scores_std,\n",
        "                         test_scores_mean + test_scores_std, alpha=0.1,\n",
        "                         color=\"g\")\n",
        "    axes[0].plot(train_sizes, train_scores_mean, 'o-', color=\"r\",\n",
        "                 label=\"Training score\")\n",
        "    axes[0].plot(train_sizes, test_scores_mean, 'o-', color=\"g\",\n",
        "                 label=\"Cross-validation score\")\n",
        "    axes[0].legend(loc=\"best\")\n",
        "\n",
        "    # Plot n_samples vs fit_times\n",
        "    axes[1].grid()\n",
        "    axes[1].plot(train_sizes, fit_times_mean, 'o-')\n",
        "    axes[1].fill_between(train_sizes, fit_times_mean - fit_times_std,\n",
        "                         fit_times_mean + fit_times_std, alpha=0.1)\n",
        "    axes[1].set_xlabel(\"Training examples\")\n",
        "    axes[1].set_ylabel(\"fit_times\")\n",
        "    axes[1].set_title(\"Escalabilidad del modelo\")\n",
        "\n",
        "    # Plot fit_time vs score\n",
        "    axes[2].grid()\n",
        "    axes[2].plot(fit_times_mean, test_scores_mean, 'o-')\n",
        "    axes[2].fill_between(fit_times_mean, test_scores_mean - test_scores_std,\n",
        "                         test_scores_mean + test_scores_std, alpha=0.1)\n",
        "    axes[2].set_xlabel(\"fit_times\")\n",
        "    axes[2].set_ylabel(\"Score\")\n",
        "    axes[2].set_title(\"Rendimiento del modelo\")\n",
        "\n",
        "    return plt\n",
        "\n",
        "\n"
      ],
      "execution_count": 724,
      "outputs": []
    },
    {
      "cell_type": "markdown",
      "metadata": {
        "id": "fSIFF_jlS9lz"
      },
      "source": [
        "Graficaremos las curvas de aprendizaje, la escalabilidad, y el rendimiento de nuestro modelo."
      ]
    },
    {
      "cell_type": "code",
      "metadata": {
        "colab": {
          "base_uri": "https://localhost:8080/",
          "height": 899
        },
        "id": "Z8Da3p6wYpBW",
        "outputId": "dd017021-1cea-4cc4-dc03-9c661da53c9a"
      },
      "source": [
        "fig, axes = plt.subplots(3, 1, figsize=(10, 15))\n",
        "title = \"Curva de aprendizaje con Regresión logística\"\n",
        "cv = ShuffleSplit(n_splits=10, test_size=0.2, random_state=0)\n",
        "estimator = LogisticRegression()\n",
        "plot_learning_curve(estimator, title, X, y, axes=axes, ylim=(0.7, 1.01), cv=cv, n_jobs=4)\n",
        "plt.show()"
      ],
      "execution_count": 725,
      "outputs": [
        {
          "output_type": "display_data",
          "data": {
            "image/png": "[encoded data removed]",
            "text/plain": [
              "<Figure size 720x1080 with 3 Axes>"
            ]
          },
          "metadata": {
            "tags": []
          }
        }
      ]
    },
    {
      "cell_type": "markdown",
      "metadata": {
        "id": "ReSUDzSMT5X2"
      },
      "source": [
        "Podemos observar que nuestro problema con este modelo es que tiene una alta varianza. Se observa considerable diferencia entre los score con los datos de entrenamiento que con los de prueba.\n",
        "\n",
        "Una causa de esto es el sobre aprendizaje. Para reducir la varianza en nuestro modelo necesitamos simplificar nuestro modelo.\n",
        "\n",
        "Otra solución es obtener más datos. Podemos observar en la gráfica de escalabilidad y de la curva de aprendizaje, que obtener más datos nos ayudará a mejorar el modelo. Pero en este caso no podemos conseguir más datos."
      ]
    },
    {
      "cell_type": "markdown",
      "metadata": {
        "id": "RrIjfTI7VPCk"
      },
      "source": [
        "Empezaremos reduciendo la cantidad maxima de caracteristicas que extrae el vectorizador. Antes no tenía límite"
      ]
    },
    {
      "cell_type": "code",
      "metadata": {
        "colab": {
          "base_uri": "https://localhost:8080/"
        },
        "id": "VtGx--w6lxXG",
        "outputId": "98a91e30-2e16-4e62-ab60-eee357cedeb9"
      },
      "source": [
        "def get_feature_vector(train_fit):\n",
        "    vector = TfidfVectorizer(max_features=10000)\n",
        "    vector.fit(train_fit)\n",
        "    return vector\n",
        "tf_vector = get_feature_vector(np.array(tweets_train.iloc[:, 2]).ravel())\n",
        "X = tf_vector.transform(np.array(tweets_train.iloc[:, 2]).ravel())\n",
        "y = np.array(tweets_train.iloc[:, 3]).ravel()\n",
        "X_train, X_test, y_train, y_test = train_test_split(X, y, test_size=0.2, random_state=30)\n",
        "LR_model.fit(X_train, y_train)\n",
        "y_predict_lr = LR_model.predict(X_test)\n",
        "print(accuracy_score(y_test, y_predict_lr))"
      ],
      "execution_count": 726,
      "outputs": [
        {
          "output_type": "stream",
          "text": [
            "0.8107213765718068\n"
          ],
          "name": "stdout"
        }
      ]
    },
    {
      "cell_type": "markdown",
      "metadata": {
        "id": "iV4yhhFzVlFM"
      },
      "source": [
        "Se mejoró un poco nuestro score.\n",
        "\n",
        "Ahora, modificaremos la regularización de nuestro modelo. Probando valores de la C, y seleccionando la que da mejor puntaje. C = 2"
      ]
    },
    {
      "cell_type": "code",
      "metadata": {
        "colab": {
          "base_uri": "https://localhost:8080/"
        },
        "id": "96V3FLfZlxXH",
        "outputId": "9d9143e5-3fe9-44bf-e73e-ee85cbb2b315"
      },
      "source": [
        "LR_model = LogisticRegression(C=2)\n",
        "LR_model.fit(X_train, y_train)\n",
        "y_predict_lr = LR_model.predict(X_test)\n",
        "print(accuracy_score(y_test, y_predict_lr))"
      ],
      "execution_count": 727,
      "outputs": [
        {
          "output_type": "stream",
          "text": [
            "0.8113831899404368\n"
          ],
          "name": "stdout"
        }
      ]
    },
    {
      "cell_type": "markdown",
      "metadata": {
        "id": "-62HPWfya3Wl"
      },
      "source": [
        "Mejoró otro poco más"
      ]
    },
    {
      "cell_type": "markdown",
      "metadata": {
        "id": "GOsKhn3AXK7V"
      },
      "source": [
        "Probaremos lemmatizando las palabras en nuestros tweets, es decir, reduciéndolas a sus orígenes. Esto debería hacer menor la cantidad de palabras. Haciendo el proceso más simple."
      ]
    },
    {
      "cell_type": "code",
      "metadata": {
        "id": "oJcopOqnsmcb"
      },
      "source": [
        "def lematize(sentence):\n",
        "  lm = WordNetLemmatizer()   \n",
        "  words = word_tokenize(sentence) \n",
        "  lem = [] \n",
        "  for w in words: \n",
        "    lem.append(lm.lemmatize(w))  \n",
        "  sentence = ' '.join(lem)\n",
        "  return sentence\n",
        "\n",
        "tweets_train['text'] = tweets_train['text'].apply(lambda x:stemmer(x))\n",
        "tweets_test['text'] = tweets_test['text'].apply(lambda x:stemmer(x))\n"
      ],
      "execution_count": 728,
      "outputs": []
    },
    {
      "cell_type": "markdown",
      "metadata": {
        "id": "3G3rZu0vX3Lv"
      },
      "source": [
        "Ahora probaremos de nuevo el modelo."
      ]
    },
    {
      "cell_type": "code",
      "metadata": {
        "colab": {
          "base_uri": "https://localhost:8080/"
        },
        "id": "jfIWMCkcy6Ba",
        "outputId": "dab9d134-9c8f-4b83-ca96-05edf51b7761"
      },
      "source": [
        "tf_vector = get_feature_vector(np.array(tweets_train.iloc[:, 2]).ravel())\n",
        "X = tf_vector.transform(np.array(tweets_train.iloc[:, 2]).ravel())\n",
        "y = np.array(tweets_train.iloc[:, 3]).ravel()\n",
        "X_train, X_test, y_train, y_test = train_test_split(X, y, test_size=0.2, random_state=30)\n",
        "LR_model = LogisticRegression(C=2)\n",
        "LR_model.fit(X_train, y_train)\n",
        "y_predict_lr = LR_model.predict(X_test)\n",
        "print(accuracy_score(y_test, y_predict_lr))"
      ],
      "execution_count": 729,
      "outputs": [
        {
          "output_type": "stream",
          "text": [
            "0.814692256783587\n"
          ],
          "name": "stdout"
        }
      ]
    },
    {
      "cell_type": "markdown",
      "metadata": {
        "id": "YbJ7k7vdX7u8"
      },
      "source": [
        "Mejoró otro poco nuestro puntaje, ahora tenemos 0.8146. \n",
        "\n",
        "Probaremos con otros modelos para ver el puntaje de estos."
      ]
    },
    {
      "cell_type": "markdown",
      "metadata": {
        "id": "O-JPKSfzYueH"
      },
      "source": [
        "Multinomial Naive Bayes"
      ]
    },
    {
      "cell_type": "code",
      "metadata": {
        "colab": {
          "base_uri": "https://localhost:8080/"
        },
        "id": "IZeLAM0in23V",
        "outputId": "3c5e9c99-e73b-46f2-e963-bac6ff08afe0"
      },
      "source": [
        "NB_model = MultinomialNB()\n",
        "NB_model.fit(X_train, y_train)\n",
        "y_predict_nb = NB_model.predict(X_test)\n",
        "print(accuracy_score(y_test, y_predict_nb))"
      ],
      "execution_count": 730,
      "outputs": [
        {
          "output_type": "stream",
          "text": [
            "0.8041032428855063\n"
          ],
          "name": "stdout"
        }
      ]
    },
    {
      "cell_type": "markdown",
      "metadata": {
        "id": "q6AUvk4sYw2c"
      },
      "source": [
        "Support Vector Machine"
      ]
    },
    {
      "cell_type": "code",
      "metadata": {
        "colab": {
          "base_uri": "https://localhost:8080/"
        },
        "id": "iHJEsn6Kodn8",
        "outputId": "4ceb8d17-6ecb-4eec-e472-0f7ab9b248b6"
      },
      "source": [
        "SVC_model = SVC()\n",
        "SVC_model.fit(X_train, y_train)\n",
        "y_predict_SVC = SVC_model.predict(X_test)\n",
        "print(accuracy_score(y_test, y_predict_SVC))"
      ],
      "execution_count": 731,
      "outputs": [
        {
          "output_type": "stream",
          "text": [
            "0.8027796161482462\n"
          ],
          "name": "stdout"
        }
      ]
    },
    {
      "cell_type": "markdown",
      "metadata": {
        "id": "hyXUMC6FYprb"
      },
      "source": [
        "Los otros modelos presentan un puntaje de exactitud similar a nuestro modelo de regresión logística.\n",
        "\n",
        "Decidimos quedarnos con nuestro modelo como está, pues un puntaje de exactitud de 0.8146 está bastante bien para el objetivo del proyecto. Detectar el sentido o mensaje de un tweet es una tarea difícil, incluso para humanos. Predecir con exactitud de un 81.46% si un tweet habla de un desastre real o de uno falso, nos parece aceptable."
      ]
    }
  ]
}